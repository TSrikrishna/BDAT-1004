{
 "cells": [
  {
   "cell_type": "markdown",
   "id": "14e1bd47-8d3d-47a7-970d-d24855490d55",
   "metadata": {},
   "source": [
    "#### Mid Term\n",
    "#### Question 21 Answer\n"
   ]
  },
  {
   "cell_type": "code",
   "execution_count": 8,
   "id": "42a6ec30-971a-4dba-b4d6-de2521037eca",
   "metadata": {},
   "outputs": [
    {
     "name": "stdout",
     "output_type": "stream",
     "text": [
      "Length of the segment: 5.0\n",
      "Slope of the segment:  1.33\n"
     ]
    }
   ],
   "source": [
    "import math\n",
    "\n",
    "class Point:\n",
    "    def __init__(self, x=0, y=0):\n",
    "        self.x = x\n",
    "        self.y = y\n",
    "\n",
    "class Segment:\n",
    "    def __init__(self, p1, p2):\n",
    "        self.p1 = p1\n",
    "        self.p2 = p2\n",
    "\n",
    "    def length(self):\n",
    "        dx = self.p2.x - self.p1.x\n",
    "        dy = self.p2.y - self.p1.y\n",
    "        return math.sqrt(dx**2 + dy**2)\n",
    "\n",
    "    def slope(self):\n",
    "        dx = self.p2.x - self.p1.x\n",
    "        dy = self.p2.y - self.p1.y\n",
    "        if dx == 0:\n",
    "            return None  # Slope is unbounded (vertical line)\n",
    "        return dy / dx\n",
    "\n",
    "\n",
    "p1 = Point(3, 4)\n",
    "p2 = Point()  \n",
    "s = Segment(p1, p2)\n",
    "\n",
    "print(f\"Length of the segment: {s.length():.1f}\")\n",
    "print(f\"Slope of the segment: {s.slope(): .2f}\")\n"
   ]
  },
  {
   "cell_type": "code",
   "execution_count": null,
   "id": "82f061fc-655e-4e28-9128-dec37785f4bf",
   "metadata": {},
   "outputs": [],
   "source": []
  }
 ],
 "metadata": {
  "kernelspec": {
   "display_name": "Python 3 (ipykernel)",
   "language": "python",
   "name": "python3"
  },
  "language_info": {
   "codemirror_mode": {
    "name": "ipython",
    "version": 3
   },
   "file_extension": ".py",
   "mimetype": "text/x-python",
   "name": "python",
   "nbconvert_exporter": "python",
   "pygments_lexer": "ipython3",
   "version": "3.11.7"
  }
 },
 "nbformat": 4,
 "nbformat_minor": 5
}
