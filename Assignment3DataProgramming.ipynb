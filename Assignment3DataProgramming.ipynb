{
 "cells": [
  {
   "cell_type": "markdown",
   "id": "73ea6c7b-0b44-4673-b24c-3ac41fed162b",
   "metadata": {},
   "source": [
    "### Assignment 3"
   ]
  },
  {
   "cell_type": "markdown",
   "id": "1235f33e-ed6e-440c-bfac-897cd54fb06d",
   "metadata": {},
   "source": [
    "#### Question 1: Occupations\n",
    "##### Import the necessary libraries\n",
    "##### Import the dataset from the provided URL and assign it to a variable called users\n",
    "##### Discover the mean age per occupation\n",
    "##### Discover the Male ratio per occupation and sort it from the most to the least\n",
    "##### Calculate the minimum and maximum ages for each occupation\n",
    "##### Calculate the mean age for each combination of occupation and sex\n",
    "##### Present the percentage of women and men for each occupation"
   ]
  },
  {
   "cell_type": "code",
   "execution_count": 2,
   "id": "4bd754b3-c83a-4b15-aabe-b93f4bcf42af",
   "metadata": {},
   "outputs": [
    {
     "name": "stdout",
     "output_type": "stream",
     "text": [
      "occupation\n",
      "administrator    38.746835\n",
      "artist           31.392857\n",
      "doctor           43.571429\n",
      "educator         42.010526\n",
      "engineer         36.388060\n",
      "entertainment    29.222222\n",
      "executive        38.718750\n",
      "healthcare       41.562500\n",
      "homemaker        32.571429\n",
      "lawyer           36.750000\n",
      "librarian        40.000000\n",
      "marketing        37.615385\n",
      "none             26.555556\n",
      "other            34.523810\n",
      "programmer       33.121212\n",
      "retired          63.071429\n",
      "salesman         35.666667\n",
      "scientist        35.548387\n",
      "student          22.081633\n",
      "technician       33.148148\n",
      "writer           36.311111\n",
      "Name: age, dtype: float64\n"
     ]
    }
   ],
   "source": [
    "import pandas as pd\n",
    "import numpy as np\n",
    "\n",
    "# Import the dataset\n",
    "url = 'https://raw.githubusercontent.com/justmarkham/DAT8/master/data/u.user'\n",
    "users = pd.read_csv(url, delimiter='|')\n",
    "\n",
    "# Discover the mean age per occupation\n",
    "mean_age_per_occupation = users.groupby('occupation')['age'].mean()\n",
    "print(mean_age_per_occupation)\n",
    "\n"
   ]
  },
  {
   "cell_type": "code",
   "execution_count": 3,
   "id": "1882965a-7bf2-49ce-a46a-e2b34756c07f",
   "metadata": {},
   "outputs": [
    {
     "name": "stdout",
     "output_type": "stream",
     "text": [
      "occupation\n",
      "doctor           1.000000\n",
      "engineer         0.970149\n",
      "technician       0.962963\n",
      "retired          0.928571\n",
      "programmer       0.909091\n",
      "executive        0.906250\n",
      "scientist        0.903226\n",
      "entertainment    0.888889\n",
      "lawyer           0.833333\n",
      "salesman         0.750000\n",
      "educator         0.726316\n",
      "student          0.693878\n",
      "other            0.657143\n",
      "marketing        0.615385\n",
      "writer           0.577778\n",
      "none             0.555556\n",
      "administrator    0.544304\n",
      "artist           0.535714\n",
      "librarian        0.431373\n",
      "healthcare       0.312500\n",
      "homemaker        0.142857\n",
      "dtype: float64\n"
     ]
    }
   ],
   "source": [
    "# Discover the Male ratio per occupation and sort it from the most to the least\n",
    "male_ratio_per_occupation = users[users['gender'] == 'M'].groupby('occupation').size() / users.groupby('occupation').size()\n",
    "male_ratio_per_occupation = male_ratio_per_occupation.sort_values(ascending=False)\n",
    "print(male_ratio_per_occupation)\n",
    "\n"
   ]
  },
  {
   "cell_type": "code",
   "execution_count": 4,
   "id": "00178b2e-174c-4ceb-b63e-16d7728cb3a2",
   "metadata": {},
   "outputs": [
    {
     "name": "stdout",
     "output_type": "stream",
     "text": [
      "               min  max\n",
      "occupation             \n",
      "administrator   21   70\n",
      "artist          19   48\n",
      "doctor          28   64\n",
      "educator        23   63\n",
      "engineer        22   70\n",
      "entertainment   15   50\n",
      "executive       22   69\n",
      "healthcare      22   62\n",
      "homemaker       20   50\n",
      "lawyer          21   53\n",
      "librarian       23   69\n",
      "marketing       24   55\n",
      "none            11   55\n",
      "other           13   64\n",
      "programmer      20   63\n",
      "retired         51   73\n",
      "salesman        18   66\n",
      "scientist       23   55\n",
      "student          7   42\n",
      "technician      21   55\n",
      "writer          18   60\n"
     ]
    }
   ],
   "source": [
    "# Calculate the minimum and maximum ages for each occupation\n",
    "min_max_age_per_occupation = users.groupby('occupation')['age'].agg(['min', 'max'])\n",
    "print(min_max_age_per_occupation)\n",
    "\n"
   ]
  },
  {
   "cell_type": "code",
   "execution_count": 5,
   "id": "1615d19a-2402-4605-a19b-9e2180afb40f",
   "metadata": {},
   "outputs": [
    {
     "name": "stdout",
     "output_type": "stream",
     "text": [
      "occupation     gender\n",
      "administrator  F         40.638889\n",
      "               M         37.162791\n",
      "artist         F         30.307692\n",
      "               M         32.333333\n",
      "doctor         M         43.571429\n",
      "educator       F         39.115385\n",
      "               M         43.101449\n",
      "engineer       F         29.500000\n",
      "               M         36.600000\n",
      "entertainment  F         31.000000\n",
      "               M         29.000000\n",
      "executive      F         44.000000\n",
      "               M         38.172414\n",
      "healthcare     F         39.818182\n",
      "               M         45.400000\n",
      "homemaker      F         34.166667\n",
      "               M         23.000000\n",
      "lawyer         F         39.500000\n",
      "               M         36.200000\n",
      "librarian      F         40.000000\n",
      "               M         40.000000\n",
      "marketing      F         37.200000\n",
      "               M         37.875000\n",
      "none           F         36.500000\n",
      "               M         18.600000\n",
      "other          F         35.472222\n",
      "               M         34.028986\n",
      "programmer     F         32.166667\n",
      "               M         33.216667\n",
      "retired        F         70.000000\n",
      "               M         62.538462\n",
      "salesman       F         27.000000\n",
      "               M         38.555556\n",
      "scientist      F         28.333333\n",
      "               M         36.321429\n",
      "student        F         20.750000\n",
      "               M         22.669118\n",
      "technician     F         38.000000\n",
      "               M         32.961538\n",
      "writer         F         37.631579\n",
      "               M         35.346154\n",
      "Name: age, dtype: float64\n"
     ]
    }
   ],
   "source": [
    "# Calculate the mean age for each combination of occupation and sex\n",
    "mean_age_per_occupation_sex = users.groupby(['occupation', 'gender'])['age'].mean()\n",
    "print(mean_age_per_occupation_sex)\n",
    "\n"
   ]
  },
  {
   "cell_type": "code",
   "execution_count": 6,
   "id": "2481ec06-fa19-44cd-a660-e05005c69a15",
   "metadata": {},
   "outputs": [
    {
     "name": "stdout",
     "output_type": "stream",
     "text": [
      "gender                 F           M\n",
      "occupation                          \n",
      "administrator  45.569620   54.430380\n",
      "artist         46.428571   53.571429\n",
      "doctor               NaN  100.000000\n",
      "educator       27.368421   72.631579\n",
      "engineer        2.985075   97.014925\n",
      "entertainment  11.111111   88.888889\n",
      "executive       9.375000   90.625000\n",
      "healthcare     68.750000   31.250000\n",
      "homemaker      85.714286   14.285714\n",
      "lawyer         16.666667   83.333333\n",
      "librarian      56.862745   43.137255\n",
      "marketing      38.461538   61.538462\n",
      "none           44.444444   55.555556\n",
      "other          34.285714   65.714286\n",
      "programmer      9.090909   90.909091\n",
      "retired         7.142857   92.857143\n",
      "salesman       25.000000   75.000000\n",
      "scientist       9.677419   90.322581\n",
      "student        30.612245   69.387755\n",
      "technician      3.703704   96.296296\n",
      "writer         42.222222   57.777778\n"
     ]
    }
   ],
   "source": [
    "# Present the percentage of women and men for each occupation\n",
    "gender_counts_per_occupation = users.groupby(['occupation', 'gender']).size().unstack()\n",
    "gender_percentage_per_occupation = gender_counts_per_occupation.div(gender_counts_per_occupation.sum(axis=1), axis=0) * 100\n",
    "print(gender_percentage_per_occupation)\n"
   ]
  },
  {
   "cell_type": "markdown",
   "id": "1cce3bc2-0b8a-4855-bd99-d8fcd43fcb44",
   "metadata": {},
   "source": [
    "### Question 2: Euro Teams\n",
    "##### Import the necessary libraries\n",
    "##### Import the dataset from the provided URL and assign it to a variable called euro12\n",
    "##### Select only the Goal column\n",
    "##### Count the number of teams that participated in Euro2012\n",
    "##### Count the number of columns\n",
    "##### View the columns Team, Yellow Cards, and Red Cards, and assign them to a dataframe called discipline\n",
    "##### Sort the teams by Red Cards, then by Yellow Cards\n",
    "##### Calculate the mean Yellow Cards given per team\n",
    "##### Filter teams that scored more than 6 goals\n",
    "##### Select teams that start with G\n",
    "##### Select the first 7 columns\n",
    "##### Select all columns except the last 3\n",
    "##### Present only the Shooting Accuracy from England, Italy, and Russia"
   ]
  },
  {
   "cell_type": "code",
   "execution_count": 8,
   "id": "7cd89cef-add9-46d3-b8ba-03b38dac9a05",
   "metadata": {},
   "outputs": [
    {
     "name": "stdout",
     "output_type": "stream",
     "text": [
      "0      4\n",
      "1      4\n",
      "2      4\n",
      "3      5\n",
      "4      3\n",
      "5     10\n",
      "6      5\n",
      "7      6\n",
      "8      2\n",
      "9      2\n",
      "10     6\n",
      "11     1\n",
      "12     5\n",
      "13    12\n",
      "14     5\n",
      "15     2\n",
      "Name: Goals, dtype: int64\n"
     ]
    }
   ],
   "source": [
    "import pandas as pd\n",
    "\n",
    "# Import the dataset\n",
    "url = 'https://raw.githubusercontent.com/guipsamora/pandas_exercises/master/02_Filtering_%26_Sorting/Euro12/Euro_2012_stats_TEAM.csv'\n",
    "euro12 = pd.read_csv(url)\n",
    "\n",
    "# Select only the Goal column\n",
    "goals = euro12['Goals']\n",
    "print(goals)\n",
    "\n"
   ]
  },
  {
   "cell_type": "code",
   "execution_count": 9,
   "id": "d4e4d920-44db-4b09-beb1-5b6f2dd1674b",
   "metadata": {},
   "outputs": [
    {
     "name": "stdout",
     "output_type": "stream",
     "text": [
      "16\n"
     ]
    }
   ],
   "source": [
    "# Count the number of teams participated in Euro2012\n",
    "num_teams = euro12['Team'].nunique()\n",
    "print(num_teams)\n",
    "\n"
   ]
  },
  {
   "cell_type": "code",
   "execution_count": 10,
   "id": "7eee66db-2448-4b93-b7de-7096fb274754",
   "metadata": {},
   "outputs": [
    {
     "name": "stdout",
     "output_type": "stream",
     "text": [
      "35\n"
     ]
    }
   ],
   "source": [
    "# Count the number of columns in the dataset\n",
    "num_columns = euro12.shape[1]\n",
    "print(num_columns)\n",
    "\n"
   ]
  },
  {
   "cell_type": "code",
   "execution_count": 11,
   "id": "fec7cd77-9203-4b68-a54a-059422a3e0c4",
   "metadata": {},
   "outputs": [
    {
     "name": "stdout",
     "output_type": "stream",
     "text": [
      "                   Team  Yellow Cards  Red Cards\n",
      "0               Croatia             9          0\n",
      "1        Czech Republic             7          0\n",
      "2               Denmark             4          0\n",
      "3               England             5          0\n",
      "4                France             6          0\n",
      "5               Germany             4          0\n",
      "6                Greece             9          1\n",
      "7                 Italy            16          0\n",
      "8           Netherlands             5          0\n",
      "9                Poland             7          1\n",
      "10             Portugal            12          0\n",
      "11  Republic of Ireland             6          1\n",
      "12               Russia             6          0\n",
      "13                Spain            11          0\n",
      "14               Sweden             7          0\n",
      "15              Ukraine             5          0\n"
     ]
    }
   ],
   "source": [
    "# View columns Team, Yellow Cards and Red Cards and assign them to a dataframe called discipline\n",
    "discipline = euro12[['Team', 'Yellow Cards', 'Red Cards']]\n",
    "print(discipline)\n",
    "\n"
   ]
  },
  {
   "cell_type": "code",
   "execution_count": 12,
   "id": "1ce2fb1c-5d96-43a1-bfe2-a972e85978fa",
   "metadata": {},
   "outputs": [
    {
     "name": "stdout",
     "output_type": "stream",
     "text": [
      "                   Team  Yellow Cards  Red Cards\n",
      "6                Greece             9          1\n",
      "9                Poland             7          1\n",
      "11  Republic of Ireland             6          1\n",
      "7                 Italy            16          0\n",
      "10             Portugal            12          0\n",
      "13                Spain            11          0\n",
      "0               Croatia             9          0\n",
      "1        Czech Republic             7          0\n",
      "14               Sweden             7          0\n",
      "4                France             6          0\n",
      "12               Russia             6          0\n",
      "3               England             5          0\n",
      "8           Netherlands             5          0\n",
      "15              Ukraine             5          0\n",
      "2               Denmark             4          0\n",
      "5               Germany             4          0\n"
     ]
    }
   ],
   "source": [
    "# Sort teams by Red Cards, then by Yellow Cards\n",
    "sorted_discipline = discipline.sort_values(by=['Red Cards', 'Yellow Cards'], ascending=[False, False])\n",
    "print(sorted_discipline)\n",
    "\n"
   ]
  },
  {
   "cell_type": "code",
   "execution_count": 13,
   "id": "8a0ddada-5ae1-4f99-b1e3-a7dd956cd5d7",
   "metadata": {},
   "outputs": [
    {
     "name": "stdout",
     "output_type": "stream",
     "text": [
      "7.4375\n"
     ]
    }
   ],
   "source": [
    "# Calculate the mean Yellow Cards given per Team\n",
    "mean_yellow_cards = discipline['Yellow Cards'].mean()\n",
    "print(mean_yellow_cards)"
   ]
  },
  {
   "cell_type": "code",
   "execution_count": 14,
   "id": "cde3b825-7609-4327-9bb1-32758807be55",
   "metadata": {},
   "outputs": [
    {
     "name": "stdout",
     "output_type": "stream",
     "text": [
      "       Team  Goals  Shots on target  Shots off target Shooting Accuracy  \\\n",
      "5   Germany     10               32                32             47.8%   \n",
      "13    Spain     12               42                33             55.9%   \n",
      "\n",
      "   % Goals-to-shots  Total shots (inc. Blocked)  Hit Woodwork  Penalty goals  \\\n",
      "5             15.6%                          80             2              1   \n",
      "13            16.0%                         100             0              1   \n",
      "\n",
      "    Penalties not scored  ...  Saves made  Saves-to-shots ratio  Fouls Won  \\\n",
      "5                      0  ...          10                 62.6%         63   \n",
      "13                     0  ...          15                 93.8%        102   \n",
      "\n",
      "   Fouls Conceded  Offsides  Yellow Cards  Red Cards  Subs on  Subs off  \\\n",
      "5              49        12             4          0       15        15   \n",
      "13             83        19            11          0       17        17   \n",
      "\n",
      "    Players Used  \n",
      "5             17  \n",
      "13            18  \n",
      "\n",
      "[2 rows x 35 columns]\n"
     ]
    }
   ],
   "source": [
    "# Filter teams that scored more than 6 goals\n",
    "teams_more_than_6_goals = euro12[euro12['Goals'] > 6]\n",
    "print(teams_more_than_6_goals)"
   ]
  },
  {
   "cell_type": "code",
   "execution_count": 15,
   "id": "603f110b-f0e8-4dd5-abab-d0fd5feff4da",
   "metadata": {},
   "outputs": [
    {
     "name": "stdout",
     "output_type": "stream",
     "text": [
      "      Team  Goals  Shots on target  Shots off target Shooting Accuracy  \\\n",
      "5  Germany     10               32                32             47.8%   \n",
      "6   Greece      5                8                18             30.7%   \n",
      "\n",
      "  % Goals-to-shots  Total shots (inc. Blocked)  Hit Woodwork  Penalty goals  \\\n",
      "5            15.6%                          80             2              1   \n",
      "6            19.2%                          32             1              1   \n",
      "\n",
      "   Penalties not scored  ...  Saves made  Saves-to-shots ratio  Fouls Won  \\\n",
      "5                     0  ...          10                 62.6%         63   \n",
      "6                     1  ...          13                 65.1%         67   \n",
      "\n",
      "  Fouls Conceded  Offsides  Yellow Cards  Red Cards  Subs on  Subs off  \\\n",
      "5             49        12             4          0       15        15   \n",
      "6             48        12             9          1       12        12   \n",
      "\n",
      "   Players Used  \n",
      "5            17  \n",
      "6            20  \n",
      "\n",
      "[2 rows x 35 columns]\n"
     ]
    }
   ],
   "source": [
    "# Select teams that start with G\n",
    "teams_start_g = euro12[euro12['Team'].str.startswith('G')]\n",
    "print(teams_start_g)\n"
   ]
  },
  {
   "cell_type": "code",
   "execution_count": 16,
   "id": "1b74f99e-af5c-49a5-915c-73c9c2fda1b5",
   "metadata": {},
   "outputs": [
    {
     "name": "stdout",
     "output_type": "stream",
     "text": [
      "                   Team  Goals  Shots on target  Shots off target  \\\n",
      "0               Croatia      4               13                12   \n",
      "1        Czech Republic      4               13                18   \n",
      "2               Denmark      4               10                10   \n",
      "3               England      5               11                18   \n",
      "4                France      3               22                24   \n",
      "5               Germany     10               32                32   \n",
      "6                Greece      5                8                18   \n",
      "7                 Italy      6               34                45   \n",
      "8           Netherlands      2               12                36   \n",
      "9                Poland      2               15                23   \n",
      "10             Portugal      6               22                42   \n",
      "11  Republic of Ireland      1                7                12   \n",
      "12               Russia      5                9                31   \n",
      "13                Spain     12               42                33   \n",
      "14               Sweden      5               17                19   \n",
      "15              Ukraine      2                7                26   \n",
      "\n",
      "   Shooting Accuracy % Goals-to-shots  Total shots (inc. Blocked)  \n",
      "0              51.9%            16.0%                          32  \n",
      "1              41.9%            12.9%                          39  \n",
      "2              50.0%            20.0%                          27  \n",
      "3              50.0%            17.2%                          40  \n",
      "4              37.9%             6.5%                          65  \n",
      "5              47.8%            15.6%                          80  \n",
      "6              30.7%            19.2%                          32  \n",
      "7              43.0%             7.5%                         110  \n",
      "8              25.0%             4.1%                          60  \n",
      "9              39.4%             5.2%                          48  \n",
      "10             34.3%             9.3%                          82  \n",
      "11             36.8%             5.2%                          28  \n",
      "12             22.5%            12.5%                          59  \n",
      "13             55.9%            16.0%                         100  \n",
      "14             47.2%            13.8%                          39  \n",
      "15             21.2%             6.0%                          38  \n"
     ]
    }
   ],
   "source": [
    "# Select the first 7 columns\n",
    "first_7_columns = euro12.iloc[:, :7]\n",
    "print(first_7_columns)"
   ]
  },
  {
   "cell_type": "code",
   "execution_count": 17,
   "id": "0c6d77fd-7637-462a-868e-cb5b99666593",
   "metadata": {},
   "outputs": [
    {
     "name": "stdout",
     "output_type": "stream",
     "text": [
      "                   Team  Goals  Shots on target  Shots off target  \\\n",
      "0               Croatia      4               13                12   \n",
      "1        Czech Republic      4               13                18   \n",
      "2               Denmark      4               10                10   \n",
      "3               England      5               11                18   \n",
      "4                France      3               22                24   \n",
      "5               Germany     10               32                32   \n",
      "6                Greece      5                8                18   \n",
      "7                 Italy      6               34                45   \n",
      "8           Netherlands      2               12                36   \n",
      "9                Poland      2               15                23   \n",
      "10             Portugal      6               22                42   \n",
      "11  Republic of Ireland      1                7                12   \n",
      "12               Russia      5                9                31   \n",
      "13                Spain     12               42                33   \n",
      "14               Sweden      5               17                19   \n",
      "15              Ukraine      2                7                26   \n",
      "\n",
      "   Shooting Accuracy % Goals-to-shots  Total shots (inc. Blocked)  \\\n",
      "0              51.9%            16.0%                          32   \n",
      "1              41.9%            12.9%                          39   \n",
      "2              50.0%            20.0%                          27   \n",
      "3              50.0%            17.2%                          40   \n",
      "4              37.9%             6.5%                          65   \n",
      "5              47.8%            15.6%                          80   \n",
      "6              30.7%            19.2%                          32   \n",
      "7              43.0%             7.5%                         110   \n",
      "8              25.0%             4.1%                          60   \n",
      "9              39.4%             5.2%                          48   \n",
      "10             34.3%             9.3%                          82   \n",
      "11             36.8%             5.2%                          28   \n",
      "12             22.5%            12.5%                          59   \n",
      "13             55.9%            16.0%                         100   \n",
      "14             47.2%            13.8%                          39   \n",
      "15             21.2%             6.0%                          38   \n",
      "\n",
      "    Hit Woodwork  Penalty goals  Penalties not scored  ...  Clean Sheets  \\\n",
      "0              0              0                     0  ...             0   \n",
      "1              0              0                     0  ...             1   \n",
      "2              1              0                     0  ...             1   \n",
      "3              0              0                     0  ...             2   \n",
      "4              1              0                     0  ...             1   \n",
      "5              2              1                     0  ...             1   \n",
      "6              1              1                     1  ...             1   \n",
      "7              2              0                     0  ...             2   \n",
      "8              2              0                     0  ...             0   \n",
      "9              0              0                     0  ...             0   \n",
      "10             6              0                     0  ...             2   \n",
      "11             0              0                     0  ...             0   \n",
      "12             2              0                     0  ...             0   \n",
      "13             0              1                     0  ...             5   \n",
      "14             3              0                     0  ...             1   \n",
      "15             0              0                     0  ...             0   \n",
      "\n",
      "    Blocks  Goals conceded Saves made  Saves-to-shots ratio  Fouls Won  \\\n",
      "0       10               3         13                 81.3%         41   \n",
      "1       10               6          9                 60.1%         53   \n",
      "2       10               5         10                 66.7%         25   \n",
      "3       29               3         22                 88.1%         43   \n",
      "4        7               5          6                 54.6%         36   \n",
      "5       11               6         10                 62.6%         63   \n",
      "6       23               7         13                 65.1%         67   \n",
      "7       18               7         20                 74.1%        101   \n",
      "8        9               5         12                 70.6%         35   \n",
      "9        8               3          6                 66.7%         48   \n",
      "10      11               4         10                 71.5%         73   \n",
      "11      23               9         17                 65.4%         43   \n",
      "12       8               3         10                 77.0%         34   \n",
      "13       8               1         15                 93.8%        102   \n",
      "14      12               5          8                 61.6%         35   \n",
      "15       4               4         13                 76.5%         48   \n",
      "\n",
      "    Fouls Conceded  Offsides  Yellow Cards  Red Cards  \n",
      "0               62         2             9          0  \n",
      "1               73         8             7          0  \n",
      "2               38         8             4          0  \n",
      "3               45         6             5          0  \n",
      "4               51         5             6          0  \n",
      "5               49        12             4          0  \n",
      "6               48        12             9          1  \n",
      "7               89        16            16          0  \n",
      "8               30         3             5          0  \n",
      "9               56         3             7          1  \n",
      "10              90        10            12          0  \n",
      "11              51        11             6          1  \n",
      "12              43         4             6          0  \n",
      "13              83        19            11          0  \n",
      "14              51         7             7          0  \n",
      "15              31         4             5          0  \n",
      "\n",
      "[16 rows x 32 columns]\n"
     ]
    }
   ],
   "source": [
    "# Select all columns except the last 3\n",
    "all_except_last_3_columns = euro12.iloc[:, :-3]\n",
    "print(all_except_last_3_columns)"
   ]
  },
  {
   "cell_type": "code",
   "execution_count": 18,
   "id": "9414cf73-c161-40f1-a537-45247fcdb818",
   "metadata": {},
   "outputs": [
    {
     "name": "stdout",
     "output_type": "stream",
     "text": [
      "       Team Shooting Accuracy\n",
      "3   England             50.0%\n",
      "7     Italy             43.0%\n",
      "12   Russia             22.5%\n"
     ]
    }
   ],
   "source": [
    "# Present only the Shooting Accuracy from England, Italy and Russia\n",
    "shooting_accuracy = euro12.loc[euro12['Team'].isin(['England', 'Italy', 'Russia']), ['Team', 'Shooting Accuracy']]\n",
    "print(shooting_accuracy)"
   ]
  },
  {
   "cell_type": "markdown",
   "id": "ea4ea036-508a-4b31-a5b8-95fb83f7979f",
   "metadata": {},
   "source": [
    "#### Question 3: Housing\n",
    "##### Import the necessary libraries\n",
    "##### Create 3 different Series, each of length 100:\n",
    "##### - The first with random numbers from 1 to 4\n",
    "##### - The second with random numbers from 1 to 3\n",
    "##### - The third with random numbers from 10,000 to 30,000\n",
    "##### Create a DataFrame by joining the Series by column\n",
    "##### Rename the columns to bedrs, bathrs, price_sqr_meter\n",
    "##### Create a one-column DataFrame with the values of the 3 Series and assign it to bigcolumn\n",
    "##### Reindex the DataFrame so it goes from 0 to 299"
   ]
  },
  {
   "cell_type": "code",
   "execution_count": 19,
   "id": "9624fbe7-3778-4e9e-bb5a-66c6154dfb0b",
   "metadata": {},
   "outputs": [],
   "source": [
    "# Create 3 different Series, each of length 100\n",
    "series1 = pd.Series(np.random.randint(1, 5, size=100))\n",
    "series2 = pd.Series(np.random.randint(1, 4, size=100))\n",
    "series3 = pd.Series(np.random.randint(10000, 30000, size=100))\n",
    "\n"
   ]
  },
  {
   "cell_type": "code",
   "execution_count": 20,
   "id": "d175b9cc-35bd-4eff-be16-61be5b1e70d3",
   "metadata": {},
   "outputs": [
    {
     "name": "stdout",
     "output_type": "stream",
     "text": [
      "    bedrs  bathrs  price_sqr_meter\n",
      "0       1       3            19738\n",
      "1       4       2            29318\n",
      "2       3       1            12724\n",
      "3       3       3            16223\n",
      "4       3       2            28343\n",
      "..    ...     ...              ...\n",
      "95      3       1            13048\n",
      "96      2       2            13147\n",
      "97      2       2            25321\n",
      "98      4       2            26584\n",
      "99      1       3            29558\n",
      "\n",
      "[100 rows x 3 columns]\n"
     ]
    }
   ],
   "source": [
    "# Create a DataFrame by joining the Series by column\n",
    "housing_df = pd.concat([series1, series2, series3], axis=1)\n",
    "housing_df.columns = ['bedrs', 'bathrs', 'price_sqr_meter']\n",
    "print(housing_df)\n",
    "\n"
   ]
  },
  {
   "cell_type": "code",
   "execution_count": 21,
   "id": "19d8e383-6e19-4150-9b1b-2be821cb0869",
   "metadata": {},
   "outputs": [
    {
     "name": "stdout",
     "output_type": "stream",
     "text": [
      "         0\n",
      "0        1\n",
      "1        4\n",
      "2        3\n",
      "3        3\n",
      "4        3\n",
      "..     ...\n",
      "295  13048\n",
      "296  13147\n",
      "297  25321\n",
      "298  26584\n",
      "299  29558\n",
      "\n",
      "[300 rows x 1 columns]\n"
     ]
    }
   ],
   "source": [
    "# Create a one-column DataFrame with the values of the 3 Series and assign it to 'bigcolumn'\n",
    "bigcolumn = pd.concat([series1, series2, series3], axis=0).to_frame()\n",
    "bigcolumn.reset_index(drop=True, inplace=True)\n",
    "print(bigcolumn)"
   ]
  },
  {
   "cell_type": "code",
   "execution_count": 22,
   "id": "4001a9c5-bf7f-4b49-8d6b-20796256ffb3",
   "metadata": {},
   "outputs": [
    {
     "name": "stdout",
     "output_type": "stream",
     "text": [
      "         0\n",
      "0        1\n",
      "1        4\n",
      "2        3\n",
      "3        3\n",
      "4        3\n",
      "..     ...\n",
      "295  13048\n",
      "296  13147\n",
      "297  25321\n",
      "298  26584\n",
      "299  29558\n",
      "\n",
      "[300 rows x 1 columns]\n"
     ]
    }
   ],
   "source": [
    "# Reindex the DataFrame so it goes from 0 to 299\n",
    "bigcolumn_reindexed = bigcolumn.reindex(range(300))\n",
    "print(bigcolumn_reindexed)\n"
   ]
  },
  {
   "cell_type": "markdown",
   "id": "d6a42f03-d335-4b29-8837-62223482196b",
   "metadata": {},
   "source": [
    "#### Question 4: Wind Statistics\n",
    "##### Import the necessary libraries\n",
    "##### Import the dataset from the file wind.txt\n",
    "##### Assign it to a variable called data and replace the first 3 columns with a proper datetime index\n",
    "##### Fix any incorrect years (e.g., year 2061) and apply the function \n",
    "##### Set the right dates as the index\n",
    "##### Compute missing values for each location over the entire record\n",
    "##### Compute non-missing values in total\n",
    "##### Calculate the mean windspeeds across all locations and times\n",
    "##### Create a DataFrame loc_stats with min, max, mean, and standard deviations of the windspeeds for each location\n",
    "##### Create a DataFrame day_stats with min, max, mean, and standard deviations of the windspeeds across all locations for each day\n",
    "##### Find the average windspeed in January for each location\n",
    "##### Downsample the record to a yearly frequency for each location\n",
    "##### Downsample the record to a monthly frequency for each location\n",
    "##### Downsample the record to a weekly frequency for each location\n",
    "##### Calculate min, max, mean, and standard deviations of the windspeeds across all locations for each week for the first 52 weeks"
   ]
  },
  {
   "cell_type": "code",
   "execution_count": 38,
   "id": "b2e436f0-bc24-4df0-acac-6d8369c09970",
   "metadata": {},
   "outputs": [],
   "source": [
    "import pandas as pd\n",
    "import numpy as np\n",
    "\n",
    "# Import the dataset\n",
    "path = 'C:/Users/srikr/OneDrive/Desktop/DataProgrammmingAssignment3Datas/wind.txt'\n",
    "data = pd.read_csv(path, delim_whitespace=True)\n",
    "\n",
    "\n",
    "data.columns = data.columns.str.strip()"
   ]
  },
  {
   "cell_type": "code",
   "execution_count": 39,
   "id": "9cbc347b-bbf2-4b71-9614-159dd0216f65",
   "metadata": {},
   "outputs": [
    {
     "data": {
      "text/html": [
       "<div>\n",
       "<style scoped>\n",
       "    .dataframe tbody tr th:only-of-type {\n",
       "        vertical-align: middle;\n",
       "    }\n",
       "\n",
       "    .dataframe tbody tr th {\n",
       "        vertical-align: top;\n",
       "    }\n",
       "\n",
       "    .dataframe thead th {\n",
       "        text-align: right;\n",
       "    }\n",
       "</style>\n",
       "<table border=\"1\" class=\"dataframe\">\n",
       "  <thead>\n",
       "    <tr style=\"text-align: right;\">\n",
       "      <th></th>\n",
       "      <th>Yr</th>\n",
       "      <th>Mo</th>\n",
       "      <th>Dy</th>\n",
       "      <th>RPT</th>\n",
       "      <th>VAL</th>\n",
       "      <th>ROS</th>\n",
       "      <th>KIL</th>\n",
       "      <th>SHA</th>\n",
       "      <th>BIR</th>\n",
       "      <th>DUB</th>\n",
       "      <th>CLA</th>\n",
       "      <th>MUL</th>\n",
       "      <th>CLO</th>\n",
       "      <th>BEL</th>\n",
       "      <th>MAL</th>\n",
       "    </tr>\n",
       "  </thead>\n",
       "  <tbody>\n",
       "    <tr>\n",
       "      <th>0</th>\n",
       "      <td>61</td>\n",
       "      <td>1</td>\n",
       "      <td>1</td>\n",
       "      <td>15.04</td>\n",
       "      <td>14.96</td>\n",
       "      <td>13.17</td>\n",
       "      <td>9.29</td>\n",
       "      <td>NaN</td>\n",
       "      <td>9.87</td>\n",
       "      <td>13.67</td>\n",
       "      <td>10.25</td>\n",
       "      <td>10.83</td>\n",
       "      <td>12.58</td>\n",
       "      <td>18.50</td>\n",
       "      <td>15.04</td>\n",
       "    </tr>\n",
       "    <tr>\n",
       "      <th>1</th>\n",
       "      <td>61</td>\n",
       "      <td>1</td>\n",
       "      <td>2</td>\n",
       "      <td>14.71</td>\n",
       "      <td>NaN</td>\n",
       "      <td>10.83</td>\n",
       "      <td>6.50</td>\n",
       "      <td>12.62</td>\n",
       "      <td>7.67</td>\n",
       "      <td>11.50</td>\n",
       "      <td>10.04</td>\n",
       "      <td>9.79</td>\n",
       "      <td>9.67</td>\n",
       "      <td>17.54</td>\n",
       "      <td>13.83</td>\n",
       "    </tr>\n",
       "    <tr>\n",
       "      <th>2</th>\n",
       "      <td>61</td>\n",
       "      <td>1</td>\n",
       "      <td>3</td>\n",
       "      <td>18.50</td>\n",
       "      <td>16.88</td>\n",
       "      <td>12.33</td>\n",
       "      <td>10.13</td>\n",
       "      <td>11.17</td>\n",
       "      <td>6.17</td>\n",
       "      <td>11.25</td>\n",
       "      <td>NaN</td>\n",
       "      <td>8.50</td>\n",
       "      <td>7.67</td>\n",
       "      <td>12.75</td>\n",
       "      <td>12.71</td>\n",
       "    </tr>\n",
       "    <tr>\n",
       "      <th>3</th>\n",
       "      <td>61</td>\n",
       "      <td>1</td>\n",
       "      <td>4</td>\n",
       "      <td>10.58</td>\n",
       "      <td>6.63</td>\n",
       "      <td>11.75</td>\n",
       "      <td>4.58</td>\n",
       "      <td>4.54</td>\n",
       "      <td>2.88</td>\n",
       "      <td>8.63</td>\n",
       "      <td>1.79</td>\n",
       "      <td>5.83</td>\n",
       "      <td>5.88</td>\n",
       "      <td>5.46</td>\n",
       "      <td>10.88</td>\n",
       "    </tr>\n",
       "    <tr>\n",
       "      <th>4</th>\n",
       "      <td>61</td>\n",
       "      <td>1</td>\n",
       "      <td>5</td>\n",
       "      <td>13.33</td>\n",
       "      <td>13.25</td>\n",
       "      <td>11.42</td>\n",
       "      <td>6.17</td>\n",
       "      <td>10.71</td>\n",
       "      <td>8.21</td>\n",
       "      <td>11.92</td>\n",
       "      <td>6.54</td>\n",
       "      <td>10.92</td>\n",
       "      <td>10.34</td>\n",
       "      <td>12.92</td>\n",
       "      <td>11.83</td>\n",
       "    </tr>\n",
       "  </tbody>\n",
       "</table>\n",
       "</div>"
      ],
      "text/plain": [
       "   Yr  Mo  Dy    RPT    VAL    ROS    KIL    SHA   BIR    DUB    CLA    MUL  \\\n",
       "0  61   1   1  15.04  14.96  13.17   9.29    NaN  9.87  13.67  10.25  10.83   \n",
       "1  61   1   2  14.71    NaN  10.83   6.50  12.62  7.67  11.50  10.04   9.79   \n",
       "2  61   1   3  18.50  16.88  12.33  10.13  11.17  6.17  11.25    NaN   8.50   \n",
       "3  61   1   4  10.58   6.63  11.75   4.58   4.54  2.88   8.63   1.79   5.83   \n",
       "4  61   1   5  13.33  13.25  11.42   6.17  10.71  8.21  11.92   6.54  10.92   \n",
       "\n",
       "     CLO    BEL    MAL  \n",
       "0  12.58  18.50  15.04  \n",
       "1   9.67  17.54  13.83  \n",
       "2   7.67  12.75  12.71  \n",
       "3   5.88   5.46  10.88  \n",
       "4  10.34  12.92  11.83  "
      ]
     },
     "execution_count": 39,
     "metadata": {},
     "output_type": "execute_result"
    }
   ],
   "source": [
    "data.head()"
   ]
  },
  {
   "cell_type": "code",
   "execution_count": 40,
   "id": "72cd8cae-c2f8-4fd8-a089-7e8241090587",
   "metadata": {},
   "outputs": [],
   "source": [
    "# Assign it to a variable called data and replace the first 3 columns by a proper datetime index\n",
    "data['date'] = pd.to_datetime(data[['Yr', 'Mo', 'Dy']].astype(str).agg('-'.join, axis=1), format='%y-%m-%d')\n",
    "data = data.set_index('date')\n",
    "data = data.drop(columns=['Yr', 'Mo', 'Dy'])"
   ]
  },
  {
   "cell_type": "code",
   "execution_count": 41,
   "id": "56e21e40-bfc4-4538-9fef-a03bc4c6e026",
   "metadata": {},
   "outputs": [],
   "source": [
    "# Fix incorrect years\n",
    "def fix_year(x):\n",
    "    year = x.year - 100 if x.year > 2060 else x.year\n",
    "    return pd.Timestamp(year, x.month, x.day)\n",
    "\n",
    "data.index = data.index.map(fix_year)"
   ]
  },
  {
   "cell_type": "code",
   "execution_count": 42,
   "id": "06c03793-d13a-400a-8a7e-b2e00d650084",
   "metadata": {},
   "outputs": [
    {
     "name": "stdout",
     "output_type": "stream",
     "text": [
      "RPT    6\n",
      "VAL    3\n",
      "ROS    2\n",
      "KIL    5\n",
      "SHA    2\n",
      "BIR    0\n",
      "DUB    3\n",
      "CLA    2\n",
      "MUL    3\n",
      "CLO    1\n",
      "BEL    0\n",
      "MAL    4\n",
      "dtype: int64\n"
     ]
    }
   ],
   "source": [
    "# Compute missing values for each location over the entire record\n",
    "missing_values_per_location = data.isna().sum()\n",
    "print(missing_values_per_location)"
   ]
  },
  {
   "cell_type": "code",
   "execution_count": 43,
   "id": "b4b31f87-bf48-4c05-a495-8c6bb33143cc",
   "metadata": {},
   "outputs": [
    {
     "name": "stdout",
     "output_type": "stream",
     "text": [
      "78857\n"
     ]
    }
   ],
   "source": [
    "# Compute non-missing values in total\n",
    "non_missing_values_total = data.notna().sum().sum()\n",
    "print(non_missing_values_total)"
   ]
  },
  {
   "cell_type": "code",
   "execution_count": 44,
   "id": "d9977038-1271-47df-8b01-0b2e4d18ec7c",
   "metadata": {},
   "outputs": [
    {
     "name": "stdout",
     "output_type": "stream",
     "text": [
      "10.227982360836938\n"
     ]
    }
   ],
   "source": [
    "# Calculate the mean windspeeds across all locations and times\n",
    "mean_windspeed_all = data.mean().mean()\n",
    "print(mean_windspeed_all)"
   ]
  },
  {
   "cell_type": "code",
   "execution_count": 45,
   "id": "a8a815bb-2ff4-446a-87c3-314a3dd6eb08",
   "metadata": {},
   "outputs": [
    {
     "name": "stdout",
     "output_type": "stream",
     "text": [
      "      min    max       mean       std\n",
      "RPT  0.67  35.80  12.362987  5.618413\n",
      "VAL  0.21  33.37  10.644314  5.267356\n",
      "ROS  1.50  33.84  11.660526  5.008450\n",
      "KIL  0.00  28.46   6.306468  3.605811\n",
      "SHA  0.13  37.54  10.455834  4.936125\n",
      "BIR  0.00  26.16   7.092254  3.968683\n",
      "DUB  0.00  30.37   9.797343  4.977555\n",
      "CLA  0.00  31.08   8.495053  4.499449\n",
      "MUL  0.00  25.88   8.493590  4.166872\n",
      "CLO  0.04  28.21   8.707332  4.503954\n",
      "BEL  0.13  42.38  13.121007  5.835037\n",
      "MAL  0.67  42.54  15.599079  6.699794\n"
     ]
    }
   ],
   "source": [
    "# Create a DataFrame loc_stats with min, max, mean, and standard deviations of the windspeeds for each location\n",
    "loc_stats = data.describe().T[['min', 'max', 'mean', 'std']]\n",
    "print(loc_stats)"
   ]
  },
  {
   "cell_type": "code",
   "execution_count": 46,
   "id": "f5c552ce-f664-4099-8d49-2bbf6bbdecf7",
   "metadata": {},
   "outputs": [
    {
     "name": "stdout",
     "output_type": "stream",
     "text": [
      "             min    max       mean       std\n",
      "date                                        \n",
      "1961-01-01  9.29  18.50  13.018182  2.808875\n",
      "1961-01-02  6.50  17.54  11.336364  3.188994\n",
      "1961-01-03  6.17  18.50  11.641818  3.681912\n",
      "1961-01-04  1.79  11.75   6.619167  3.198126\n",
      "1961-01-05  6.17  13.33  10.630000  2.445356\n",
      "...          ...    ...        ...       ...\n",
      "1978-12-27  8.08  40.08  16.708333  7.868076\n",
      "1978-12-28  5.00  41.46  15.150000  9.687857\n",
      "1978-12-29  8.71  29.58  14.890000  5.756836\n",
      "1978-12-30  9.13  28.79  15.367500  5.540437\n",
      "1978-12-31  9.59  27.29  15.402500  5.702483\n",
      "\n",
      "[6574 rows x 4 columns]\n"
     ]
    }
   ],
   "source": [
    "# Create a DataFrame day_stats with min, max, mean, and standard deviations of the windspeeds across all locations for each day\n",
    "day_stats = data.agg(['min', 'max', 'mean', 'std'], axis=1)\n",
    "print(day_stats)"
   ]
  },
  {
   "cell_type": "code",
   "execution_count": 47,
   "id": "8c928f4b-8ee0-470e-ae62-c827a8b71533",
   "metadata": {},
   "outputs": [
    {
     "name": "stdout",
     "output_type": "stream",
     "text": [
      "RPT    14.847314\n",
      "VAL    12.912900\n",
      "ROS    13.299624\n",
      "KIL     7.199498\n",
      "SHA    11.665601\n",
      "BIR     8.054839\n",
      "DUB    11.819355\n",
      "CLA     9.511569\n",
      "MUL     9.543208\n",
      "CLO    10.053566\n",
      "BEL    14.550520\n",
      "MAL    18.028763\n",
      "dtype: float64\n"
     ]
    }
   ],
   "source": [
    "# Find the average windspeed in January for each location\n",
    "january_data = data[data.index.month == 1]\n",
    "average_windspeed_january = january_data.groupby(january_data.index.year).mean().mean()\n",
    "print(average_windspeed_january)"
   ]
  },
  {
   "cell_type": "code",
   "execution_count": 48,
   "id": "e8ee4428-7c79-4954-9aa7-d2f5fd5eaf1d",
   "metadata": {},
   "outputs": [
    {
     "name": "stdout",
     "output_type": "stream",
     "text": [
      "                  RPT        VAL        ROS       KIL        SHA       BIR  \\\n",
      "date                                                                         \n",
      "1961-12-31  12.299583  10.351796  11.362369  6.958227  10.881763  7.729726   \n",
      "1962-12-31  12.246923  10.110438  11.732712  6.960440  10.657918  7.393068   \n",
      "1963-12-31  12.813452  10.836986  12.541151  7.330055  11.724110  8.434712   \n",
      "1964-12-31  12.363661  10.920164  12.104372  6.787787  11.454481  7.570874   \n",
      "1965-12-31  12.451370  11.075534  11.848767  6.858466  11.024795  7.478110   \n",
      "1966-12-31  13.461973  11.557205  12.020630  7.345726  11.805041  7.793671   \n",
      "1967-12-31  12.737151  10.990986  11.739397  7.143425  11.630740  7.368164   \n",
      "1968-12-31  11.835628  10.468197  11.409754  6.477678  10.760765  6.067322   \n",
      "1969-12-31  11.166356   9.723699  10.902000  5.767973   9.873918  6.189973   \n",
      "1970-12-31  12.600329  10.726932  11.730247  6.217178  10.567370  7.609452   \n",
      "1971-12-31  11.273123   9.095178  11.088329  5.241507   9.440329  6.097151   \n",
      "1972-12-31  12.463962  10.561311  12.058333  5.929699   9.430410  6.358825   \n",
      "1973-12-31  11.828466  10.680493  10.680493  5.547863   9.640877  6.548740   \n",
      "1974-12-31  13.643096  11.811781  12.336356  6.427041  11.110986  6.809781   \n",
      "1975-12-31  12.008575  10.293836  11.564712  5.269096   9.190082  5.668521   \n",
      "1976-12-31  11.737842  10.203115  10.761230  5.109426   8.846339  6.311038   \n",
      "1977-12-31  13.099616  11.144493  12.627836  6.073945  10.003836  8.586438   \n",
      "1978-12-31  12.504356  11.044274  11.380000  6.082356  10.167233  7.650658   \n",
      "\n",
      "                  DUB        CLA       MUL        CLO        BEL        MAL  \n",
      "date                                                                         \n",
      "1961-12-31   9.733923   8.858788  8.647652   9.835577  13.502795  13.680773  \n",
      "1962-12-31  11.020712   8.793753  8.316822   9.676247  12.930685  14.323956  \n",
      "1963-12-31  11.075699  10.336548  8.903589  10.224438  13.638877  14.999014  \n",
      "1964-12-31  10.259153   9.467350  7.789016  10.207951  13.740546  14.910301  \n",
      "1965-12-31  10.618712   8.879918  7.907425   9.918082  12.964247  15.591644  \n",
      "1966-12-31  10.579808   8.835096  8.514438   9.768959  14.265836  16.307260  \n",
      "1967-12-31  10.652027   9.325616  8.645014   9.547425  14.774548  17.135945  \n",
      "1968-12-31   8.859180   8.255519  7.224945   7.832978  12.808634  15.017486  \n",
      "1969-12-31   8.564493   7.711397  7.924521   7.754384  12.621233  15.762904  \n",
      "1970-12-31   9.609890   8.334630  9.297616   8.289808  13.183644  16.456027  \n",
      "1971-12-31   8.385890   6.757315  7.915370   7.229753  12.208932  15.025233  \n",
      "1972-12-31   9.704508   7.680792  8.357295   7.515273  12.727377  15.028716  \n",
      "1973-12-31   8.482110   7.614274  8.245534   7.812411  12.169699  15.441096  \n",
      "1974-12-31  10.084603   9.896986  9.331753   8.736356  13.252959  16.947671  \n",
      "1975-12-31   8.562603   7.843836  8.797945   7.382822  12.631671  15.307863  \n",
      "1976-12-31   9.149126   7.146202  8.883716   7.883087  12.332377  15.471448  \n",
      "1977-12-31  11.523205   8.378384  9.098192   8.821616  13.459068  16.590849  \n",
      "1978-12-31   9.489342   8.800466  9.089753   8.301699  12.967397  16.771370  \n"
     ]
    }
   ],
   "source": [
    "# Downsample the record to a yearly frequency for each location\n",
    "yearly_data = data.resample('Y').mean()\n",
    "print(yearly_data)"
   ]
  },
  {
   "cell_type": "code",
   "execution_count": 49,
   "id": "4e07ebe3-cb6b-4fc4-abd0-9adaa72f662e",
   "metadata": {},
   "outputs": [
    {
     "name": "stdout",
     "output_type": "stream",
     "text": [
      "                  RPT        VAL        ROS       KIL        SHA        BIR  \\\n",
      "date                                                                          \n",
      "1961-01-31  14.841333  11.988333  13.431613  7.736774  11.072759   8.588065   \n",
      "1961-02-28  16.269286  14.975357  14.441481  9.230741  13.852143  10.937500   \n",
      "1961-03-31  10.890000  11.296452  10.752903  7.284000  10.509355   8.866774   \n",
      "1961-04-30  10.722667   9.427667   9.998000  5.830667   8.435000   6.495000   \n",
      "1961-05-31   9.860968   8.850000  10.818065  5.905333   9.490323   6.574839   \n",
      "...               ...        ...        ...       ...        ...        ...   \n",
      "1978-08-31   9.645161   8.259355   9.032258  4.502903   7.368065   5.935161   \n",
      "1978-09-30  10.913667  10.895000  10.635000  5.725000  10.372000   9.278333   \n",
      "1978-10-31   9.897742   8.670968   9.295806  4.721290   8.525161   6.774194   \n",
      "1978-11-30  16.151667  14.802667  13.508000  7.317333  11.475000   8.743000   \n",
      "1978-12-31  16.175484  13.748065  15.635161  7.094839  11.398710   9.241613   \n",
      "\n",
      "                  DUB        CLA        MUL        CLO        BEL        MAL  \n",
      "date                                                                          \n",
      "1961-01-31  11.184839   9.245333   9.085806  10.107419  13.880968  14.703226  \n",
      "1961-02-28  11.890714  11.846071  11.821429  12.714286  18.583214  15.411786  \n",
      "1961-03-31   9.644194   9.829677  10.294138  11.251935  16.410968  15.720000  \n",
      "1961-04-30   6.925333   7.094667   7.342333   7.237000  11.147333  10.278333  \n",
      "1961-05-31   7.604000   8.177097   8.039355   8.499355  11.900323  12.011613  \n",
      "...               ...        ...        ...        ...        ...        ...  \n",
      "1978-08-31   5.650323   5.417742   7.241290   5.536774  10.466774  12.054194  \n",
      "1978-09-30  10.790333   9.583000  10.069333   8.939000  15.680333  19.391333  \n",
      "1978-10-31   8.115484   7.337742   8.297742   8.243871  13.776774  17.150000  \n",
      "1978-11-30  11.492333   9.657333  10.701333  10.676000  17.404667  20.723000  \n",
      "1978-12-31  12.077419  10.194839  10.616774  11.028710  13.859677  21.371613  \n",
      "\n",
      "[216 rows x 12 columns]\n"
     ]
    }
   ],
   "source": [
    "# Downsample the record to a monthly frequency for each location\n",
    "monthly_data = data.resample('M').mean()\n",
    "print(monthly_data)"
   ]
  },
  {
   "cell_type": "code",
   "execution_count": 50,
   "id": "72719abc-c161-4e8a-b059-c558640bbf27",
   "metadata": {},
   "outputs": [
    {
     "name": "stdout",
     "output_type": "stream",
     "text": [
      "                  RPT        VAL        ROS        KIL        SHA        BIR  \\\n",
      "date                                                                           \n",
      "1961-01-01  15.040000  14.960000  13.170000   9.290000        NaN   9.870000   \n",
      "1961-01-08  13.541429  11.486667  10.487143   6.417143   9.474286   6.435714   \n",
      "1961-01-15  12.468571   8.967143  11.958571   4.630000   7.351429   5.072857   \n",
      "1961-01-22  13.204286   9.862857  12.982857   6.328571   8.966667   7.417143   \n",
      "1961-01-29  19.880000  16.141429  18.225714  12.720000  17.432857  14.828571   \n",
      "...               ...        ...        ...        ...        ...        ...   \n",
      "1978-12-03  14.934286  11.232857  13.941429   5.565714  10.215714   8.618571   \n",
      "1978-12-10  20.740000  19.190000  17.034286   9.777143  15.287143  12.774286   \n",
      "1978-12-17  16.758571  14.692857  14.987143   6.917143  11.397143   7.272857   \n",
      "1978-12-24  11.155714   8.008571  13.172857   4.004286   7.825714   6.290000   \n",
      "1978-12-31  14.951429  11.801429  16.035714   6.507143   9.660000   8.620000   \n",
      "\n",
      "                  DUB        CLA        MUL        CLO        BEL        MAL  \n",
      "date                                                                          \n",
      "1961-01-01  13.670000  10.250000  10.830000  12.580000  18.500000  15.040000  \n",
      "1961-01-08  11.061429   6.616667   8.434286   8.497143  12.481429  13.238571  \n",
      "1961-01-15   7.535714   6.820000   5.712857   7.571429  11.125714  11.024286  \n",
      "1961-01-22   9.257143   7.875714   7.145714   8.124286   9.821429  11.434286  \n",
      "1961-01-29  15.528571  15.160000  14.480000  15.640000  20.930000  22.530000  \n",
      "...               ...        ...        ...        ...        ...        ...  \n",
      "1978-12-03   9.642857   7.685714   9.011429   9.547143  11.835714  18.728571  \n",
      "1978-12-10  14.437143  12.488571  13.870000  14.082857  18.517143  23.061429  \n",
      "1978-12-17  10.208571   7.967143   9.168571   8.565714  11.102857  15.562857  \n",
      "1978-12-24   7.798571   8.667143   7.151429   8.072857  11.845714  18.977143  \n",
      "1978-12-31  13.708571  10.477143  10.868571  11.471429  12.947143  26.844286  \n",
      "\n",
      "[940 rows x 12 columns]\n"
     ]
    }
   ],
   "source": [
    "# Downsample the record to a weekly frequency for each location\n",
    "weekly_data = data.resample('W').mean()\n",
    "print(weekly_data)"
   ]
  },
  {
   "cell_type": "code",
   "execution_count": 51,
   "id": "99f60efb-d682-4738-a813-17722882c67c",
   "metadata": {},
   "outputs": [
    {
     "name": "stdout",
     "output_type": "stream",
     "text": [
      "            RPT        VAL        ROS        KIL        SHA        BIR  \\\n",
      "min    4.202857   4.255714   6.738571   3.300000   6.112857   2.715714   \n",
      "max   19.880000  16.417143  18.225714  12.720000  17.432857  14.828571   \n",
      "mean  12.316163  10.436978  11.296667   6.998690  10.930691   7.810330   \n",
      "std    3.419077   2.900003   2.789210   2.091987   2.674869   2.426344   \n",
      "\n",
      "            DUB        CLA        MUL        CLO        BEL        MAL  \n",
      "min    3.964286   4.257143   4.501429   6.031429   5.875714   5.737143  \n",
      "max   15.565714  15.160000  14.480000  16.461429  21.832857  23.641429  \n",
      "mean   9.764986   8.908732   8.732106   9.914712  13.658352  13.723933  \n",
      "std    2.850023   2.447832   2.412421   2.595592   3.640914   3.583555  \n"
     ]
    }
   ],
   "source": [
    "# Calculate min, max, mean, and standard deviations of the windspeeds across all locations for each week for the first 52 weeks\n",
    "first_52_weeks_data = weekly_data.iloc[:52]\n",
    "weekly_stats = first_52_weeks_data.agg(['min', 'max', 'mean', 'std'])\n",
    "print(weekly_stats)\n"
   ]
  },
  {
   "cell_type": "markdown",
   "id": "29d7041f-a984-4a0a-9c1a-99ef66ea66ed",
   "metadata": {},
   "source": [
    "#### Question 5\n",
    "##### Import the necessary libraries\n"
   ]
  },
  {
   "cell_type": "code",
   "execution_count": 84,
   "id": "3d8dbcec-dee2-4555-ba93-00be91d574ce",
   "metadata": {},
   "outputs": [],
   "source": [
    "import pandas as pd\n"
   ]
  },
  {
   "cell_type": "markdown",
   "id": "25cc9516-98a8-4736-a5ad-9c2630ed9c56",
   "metadata": {},
   "source": [
    "#### Step 2: Import the dataset from this address\n",
    "#### Step 3: Assign it to a variable called chipo"
   ]
  },
  {
   "cell_type": "code",
   "execution_count": 85,
   "id": "6f7dcb70-0cda-4eac-a1fb-47c84d6366a5",
   "metadata": {},
   "outputs": [],
   "source": [
    "url = 'https://raw.githubusercontent.com/justmarkham/DAT8/master/data/chipotle.tsv'\n",
    "chipo = pd.read_csv(url, sep='\\t')"
   ]
  },
  {
   "cell_type": "code",
   "execution_count": 86,
   "id": "ca066308-f308-4344-9c16-690075af06ff",
   "metadata": {},
   "outputs": [
    {
     "name": "stdout",
     "output_type": "stream",
     "text": [
      "   order_id  quantity                              item_name  \\\n",
      "0         1         1           Chips and Fresh Tomato Salsa   \n",
      "1         1         1                                   Izze   \n",
      "2         1         1                       Nantucket Nectar   \n",
      "3         1         1  Chips and Tomatillo-Green Chili Salsa   \n",
      "4         2         2                           Chicken Bowl   \n",
      "5         3         1                           Chicken Bowl   \n",
      "6         3         1                          Side of Chips   \n",
      "7         4         1                          Steak Burrito   \n",
      "8         4         1                       Steak Soft Tacos   \n",
      "9         5         1                          Steak Burrito   \n",
      "\n",
      "                                  choice_description item_price  \n",
      "0                                                NaN     $2.39   \n",
      "1                                       [Clementine]     $3.39   \n",
      "2                                            [Apple]     $3.39   \n",
      "3                                                NaN     $2.39   \n",
      "4  [Tomatillo-Red Chili Salsa (Hot), [Black Beans...    $16.98   \n",
      "5  [Fresh Tomato Salsa (Mild), [Rice, Cheese, Sou...    $10.98   \n",
      "6                                                NaN     $1.69   \n",
      "7  [Tomatillo Red Chili Salsa, [Fajita Vegetables...    $11.75   \n",
      "8  [Tomatillo Green Chili Salsa, [Pinto Beans, Ch...     $9.25   \n",
      "9  [Fresh Tomato Salsa, [Rice, Black Beans, Pinto...     $9.25   \n"
     ]
    }
   ],
   "source": [
    "# See the first 10 entries\n",
    "print(chipo.head(10))\n"
   ]
  },
  {
   "cell_type": "code",
   "execution_count": 87,
   "id": "6172d175-151d-46dd-8647-4d333e5f2fa7",
   "metadata": {},
   "outputs": [
    {
     "name": "stdout",
     "output_type": "stream",
     "text": [
      "Number of observations: 4622\n"
     ]
    }
   ],
   "source": [
    "# what is the no of ovservations in the dataset?\n",
    "\n",
    "num_observations = chipo.shape[0]\n",
    "print(f'Number of observations: {num_observations}')\n"
   ]
  },
  {
   "cell_type": "code",
   "execution_count": 88,
   "id": "f37e2596-8783-4d80-a0e4-9605e2364fee",
   "metadata": {},
   "outputs": [
    {
     "name": "stdout",
     "output_type": "stream",
     "text": [
      "Number of columns: 5\n"
     ]
    }
   ],
   "source": [
    "# what is the number of the columns in the dataset?\n",
    "\n",
    "num_columns = chipo.shape[1]\n",
    "print(f'Number of columns: {num_columns}')\n"
   ]
  },
  {
   "cell_type": "code",
   "execution_count": 89,
   "id": "006372cd-130b-479a-b113-9829e4f637e9",
   "metadata": {},
   "outputs": [
    {
     "name": "stdout",
     "output_type": "stream",
     "text": [
      "Column names: ['order_id', 'quantity', 'item_name', 'choice_description', 'item_price']\n"
     ]
    }
   ],
   "source": [
    "# print the name of all the columns\n",
    "print(f'Column names: {chipo.columns.tolist()}')\n"
   ]
  },
  {
   "cell_type": "code",
   "execution_count": 90,
   "id": "5af9903c-632d-4f4c-8f55-49dc696d8474",
   "metadata": {},
   "outputs": [
    {
     "name": "stdout",
     "output_type": "stream",
     "text": [
      "Index: RangeIndex(start=0, stop=4622, step=1)\n"
     ]
    }
   ],
   "source": [
    "# How is the dataset indexed?\n",
    "print(f'Index: {chipo.index}')\n"
   ]
  },
  {
   "cell_type": "code",
   "execution_count": 91,
   "id": "cc564afa-1dd0-4804-a8ed-d90d296e52f6",
   "metadata": {},
   "outputs": [
    {
     "name": "stdout",
     "output_type": "stream",
     "text": [
      "Most-ordered item: Chicken Bowl\n"
     ]
    }
   ],
   "source": [
    "# Which was the most-ordered item?\n",
    "most_ordered_item = chipo.groupby('item_name').quantity.sum().idxmax()\n",
    "print(f'Most-ordered item: {most_ordered_item}')\n"
   ]
  },
  {
   "cell_type": "code",
   "execution_count": 92,
   "id": "489404bc-8b08-44c4-941e-ad7a27c40854",
   "metadata": {},
   "outputs": [
    {
     "name": "stdout",
     "output_type": "stream",
     "text": [
      "Quantity of most-ordered item: 761\n"
     ]
    }
   ],
   "source": [
    "# For the most-ordered ite, How many items were ordered?\n",
    "\n",
    "most_ordered_quantity = chipo.groupby('item_name').quantity.sum().max()\n",
    "print(f'Quantity of most-ordered item: {most_ordered_quantity}')\n"
   ]
  },
  {
   "cell_type": "code",
   "execution_count": 93,
   "id": "77062518-ad67-4121-8d66-2df42339dadd",
   "metadata": {},
   "outputs": [
    {
     "name": "stdout",
     "output_type": "stream",
     "text": [
      "Most ordered item in choice_description: [Diet Coke]\n"
     ]
    }
   ],
   "source": [
    "most_ordered_choice_description = chipo.groupby('choice_description').quantity.sum().idxmax()\n",
    "print(f'Most ordered item in choice_description: {most_ordered_choice_description}')"
   ]
  },
  {
   "cell_type": "code",
   "execution_count": 94,
   "id": "0438c99a-df76-48f6-baf3-f08bea72bae5",
   "metadata": {},
   "outputs": [
    {
     "name": "stdout",
     "output_type": "stream",
     "text": [
      "Total items ordered: 4972\n"
     ]
    }
   ],
   "source": [
    "# How many items were ordered in total?\n",
    "total_items_ordered = chipo['quantity'].sum()\n",
    "print(f'Total items ordered: {total_items_ordered}')\n"
   ]
  },
  {
   "cell_type": "code",
   "execution_count": 95,
   "id": "77a682bf-4ac4-4a45-89b9-3b0d5a080867",
   "metadata": {},
   "outputs": [
    {
     "name": "stdout",
     "output_type": "stream",
     "text": [
      "Item price type : float64\n",
      "Item price type after : float64\n"
     ]
    }
   ],
   "source": [
    "# Turn the item price into a float\n",
    "chipo['item_price'] = chipo['item_price'].str.replace('$', '').astype(float)\n",
    "\n",
    "# Check the item price type\n",
    "print(f'Item price type : {chipo[\"item_price\"].dtype}')\n",
    "\n",
    "# Create a lambda function and change the type of item price\n",
    "chipo['item_price'] = chipo['item_price'].apply(lambda x: float(x))\n",
    "\n",
    "# Check the item price type again\n",
    "print(f'Item price type after : {chipo[\"item_price\"].dtype}')\n"
   ]
  },
  {
   "cell_type": "code",
   "execution_count": 97,
   "id": "3aa22436-81c5-45d8-a938-ed16da81807b",
   "metadata": {},
   "outputs": [
    {
     "name": "stdout",
     "output_type": "stream",
     "text": [
      "Total revenue: $39237.02\n"
     ]
    }
   ],
   "source": [
    "#  How much was the revenue for the period in the dataset?\n",
    "\n",
    "chipo['total_price'] = chipo['quantity'] * chipo['item_price']\n",
    "total_revenue = chipo['total_price'].sum()\n",
    "print(f'Total revenue: ${total_revenue:.2f}')\n"
   ]
  },
  {
   "cell_type": "code",
   "execution_count": 98,
   "id": "6b416dff-8d63-4010-89ab-6f4fc8a57931",
   "metadata": {},
   "outputs": [
    {
     "name": "stdout",
     "output_type": "stream",
     "text": [
      "Number of orders: 1834\n"
     ]
    }
   ],
   "source": [
    "# How many orders were made in the period?\n",
    "\n",
    "num_orders = chipo['order_id'].nunique()\n",
    "print(f'Number of orders: {num_orders}')\n"
   ]
  },
  {
   "cell_type": "code",
   "execution_count": 99,
   "id": "e4169b6f-95ec-4cda-a24a-513d4d1593de",
   "metadata": {},
   "outputs": [
    {
     "name": "stdout",
     "output_type": "stream",
     "text": [
      "Average revenue per order: $21.39\n"
     ]
    }
   ],
   "source": [
    "# What is the average revenue amount per order?\n",
    "\n",
    "avg_revenue_per_order = total_revenue / num_orders\n",
    "print(f'Average revenue per order: ${avg_revenue_per_order:.2f}')\n"
   ]
  },
  {
   "cell_type": "code",
   "execution_count": 100,
   "id": "6d77a841-e88b-45a3-9239-fc622058af9c",
   "metadata": {},
   "outputs": [
    {
     "name": "stdout",
     "output_type": "stream",
     "text": [
      "Number of different items sold: 50\n"
     ]
    }
   ],
   "source": [
    "# How many different items are sold?\n",
    "\n",
    "num_different_items = chipo['item_name'].nunique()\n",
    "print(f'Number of different items sold: {num_different_items}')\n"
   ]
  },
  {
   "cell_type": "markdown",
   "id": "c2ce449f-1bfb-4569-bd32-c1b92b129e43",
   "metadata": {},
   "source": [
    "#### Question 6\n",
    "###### Create a line plot showing the number of marriages and divorces per capita in the U.S. between 1867 and 2014. Label both lines and show the legend.\n"
   ]
  },
  {
   "cell_type": "code",
   "execution_count": 101,
   "id": "570b9449-d571-4cc1-9409-32c4fcb94d15",
   "metadata": {},
   "outputs": [
    {
     "data": {
      "image/png": "[encoded data removed]",
      "text/plain": [
       "<Figure size 1000x500 with 1 Axes>"
      ]
     },
     "metadata": {},
     "output_type": "display_data"
    }
   ],
   "source": [
    "import pandas as pd\n",
    "import matplotlib.pyplot as plt\n",
    "\n",
    "# Importing the dataset\n",
    "path = 'C:/Users/srikr/OneDrive/Desktop/DataProgrammmingAssignment3Datas/us-marriages-divorces-1867-2014.csv'\n",
    "data = pd.read_csv(path)\n",
    "\n",
    "# line plot\n",
    "plt.figure(figsize=(10, 5))\n",
    "plt.plot(data['Year'], data['Marriages_per_1000'], label='Marriages per 1000', color='blue')\n",
    "plt.plot(data['Year'], data['Divorces_per_1000'], label='Divorces per 1000', color='red')\n",
    "plt.xlabel('Year')\n",
    "plt.ylabel('Number per 1000 people')\n",
    "plt.title('Marriages and Divorces per Capita in the U.S. (1867-2014)')\n",
    "plt.legend()\n",
    "plt.grid(True)\n",
    "plt.show()\n"
   ]
  },
  {
   "cell_type": "markdown",
   "id": "a48884f2-5f04-46ab-8e3c-385ee6d13187",
   "metadata": {},
   "source": [
    "#### Question 7\n",
    "##### Create a vertical bar chart comparing the number of marriages and divorces per capita in the U.S. between 1900, 1950, and 2000.\n",
    "###### Don't forget to label your axes!"
   ]
  },
  {
   "cell_type": "code",
   "execution_count": 104,
   "id": "25aef0b7-b49d-4a54-ac14-6ab71388b0ad",
   "metadata": {},
   "outputs": [
    {
     "data": {
      "image/png": "[encoded data removed]",
      "text/plain": [
       "<Figure size 1000x500 with 1 Axes>"
      ]
     },
     "metadata": {},
     "output_type": "display_data"
    }
   ],
   "source": [
    "import pandas as pd\n",
    "import matplotlib.pyplot as plt\n",
    "\n",
    "\n",
    "path = 'C:/Users/srikr/OneDrive/Desktop/DataProgrammmingAssignment3Datas/us-marriages-divorces-1867-2014.csv'\n",
    "data = pd.read_csv(path)\n",
    "\n",
    "# Filtering the data for the years 1900, 1950, and 2000\n",
    "filtered_data = data[data['Year'].isin([1900, 1950, 2000])]\n",
    "\n",
    "# Bar chart\n",
    "plt.figure(figsize=(10, 5))\n",
    "bar_width = 0.35\n",
    "index = filtered_data['Year']\n",
    "\n",
    "bar1 = plt.bar(index - bar_width/2, filtered_data['Marriages_per_1000'], bar_width, label='Marriages per 1000', color='blue')\n",
    "bar2 = plt.bar(index + bar_width/2, filtered_data['Divorces_per_1000'], bar_width, label='Divorces per 1000', color='red')\n",
    "\n",
    "plt.xlabel('Year')\n",
    "plt.ylabel('Number per 1000 people')\n",
    "plt.title('Marriages and Divorces per Capita in the U.S. (1900, 1950, 2000)')\n",
    "plt.xticks(index)\n",
    "plt.legend()\n",
    "plt.grid(True)\n",
    "plt.show()"
   ]
  },
  {
   "cell_type": "markdown",
   "id": "8df6dffd-950e-46a6-80a5-dfe06afccb54",
   "metadata": {},
   "source": [
    "#### Question 9\n",
    "##### Create a pie chart showing the fraction of all Roman Emperors that were assassinated.\n",
    "##### Make sure that the pie chart is an even circle, labels the categories, and shows the percentage breakdown of the categories."
   ]
  },
  {
   "cell_type": "code",
   "execution_count": 112,
   "id": "057c1684-e150-428a-9a09-0a6d5f536793",
   "metadata": {},
   "outputs": [
    {
     "data": {
      "image/png": "[encoded data removed]",
      "text/plain": [
       "<Figure size 800x800 with 1 Axes>"
      ]
     },
     "metadata": {},
     "output_type": "display_data"
    }
   ],
   "source": [
    "import pandas as pd\n",
    "import matplotlib.pyplot as plt\n",
    "\n",
    "\n",
    "path = 'C:/Users/srikr/OneDrive/Desktop/DataProgrammmingAssignment3Datas/roman-emperor-reigns.csv'\n",
    "data = pd.read_csv(path)\n",
    "\n",
    "# Number of emperors who were assassinated\n",
    "assassinated = data[data['Cause_of_Death'] == 'Assassinated'].shape[0]\n",
    "not_assassinated = data.shape[0] - assassinated\n",
    "\n",
    "# Data for the pie chart\n",
    "labels = ['Assassinated', 'Not Assassinated']\n",
    "sizes = [assassinated, not_assassinated]\n",
    "colors = ['#1f77b4', '#2ca02c'] \n",
    "\n",
    "\n",
    "plt.figure(figsize=(8, 8))\n",
    "plt.pie(sizes, explode=explode, labels=labels, colors=colors, autopct='%1.1f%%', shadow=True, startangle=140)\n",
    "plt.title('Fraction of Roman Emperors Assassinated')\n",
    "plt.axis('equal')  # Equal aspect ratio ensures that pie is drawn as a circle.\n",
    "plt.show()\n"
   ]
  },
  {
   "cell_type": "markdown",
   "id": "0f021a85-8db5-4987-8f84-8062bfe6f917",
   "metadata": {},
   "source": [
    "# Question10\n",
    "##### Create a scatter plot showing the relationship between the total revenue earned by arcades and the number of Computer Science PhDs awarded in the U.S. between 2000 and 2009. Label the axes and color each dot according to its year."
   ]
  },
  {
   "cell_type": "code",
   "execution_count": 115,
   "id": "598458c2-cb1c-4b0d-93e4-1add63cd45a5",
   "metadata": {},
   "outputs": [
    {
     "data": {
      "image/png": "[encoded data removed]",
      "text/plain": [
       "<Figure size 1000x500 with 2 Axes>"
      ]
     },
     "metadata": {},
     "output_type": "display_data"
    }
   ],
   "source": [
    "import pandas as pd\n",
    "import matplotlib.pyplot as plt\n",
    "\n",
    "\n",
    "path = 'C:/Users/srikr/OneDrive/Desktop/DataProgrammmingAssignment3Datas/arcade-revenue-vs-cs-doctorates.csv'\n",
    "data = pd.read_csv(path)\n",
    "\n",
    "# scatter plot\n",
    "plt.figure(figsize=(10, 5))\n",
    "scatter = plt.scatter(data['Total Arcade Revenue (billions)'], data['Computer Science Doctorates Awarded (US)'],\n",
    "                      c=data['Year'], cmap='viridis', edgecolor='k', s=100)\n",
    "plt.xlabel('Total Arcade Revenue (billions)')\n",
    "plt.ylabel('Computer Science Doctorates Awarded (US)')\n",
    "plt.title('Arcade Revenue vs. Computer Science PhDs (2000-2009)')\n",
    "plt.colorbar(scatter, label='Year')\n",
    "plt.grid(True)\n",
    "plt.show()\n"
   ]
  }
 ],
 "metadata": {
  "kernelspec": {
   "display_name": "Python 3 (ipykernel)",
   "language": "python",
   "name": "python3"
  },
  "language_info": {
   "codemirror_mode": {
    "name": "ipython",
    "version": 3
   },
   "file_extension": ".py",
   "mimetype": "text/x-python",
   "name": "python",
   "nbconvert_exporter": "python",
   "pygments_lexer": "ipython3",
   "version": "3.11.7"
  }
 },
 "nbformat": 4,
 "nbformat_minor": 5
}
