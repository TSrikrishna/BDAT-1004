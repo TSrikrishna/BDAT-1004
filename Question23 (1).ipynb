{
 "cells": [
  {
   "cell_type": "markdown",
   "id": "4286d99b-8281-473a-8c49-f77543c707fc",
   "metadata": {},
   "source": [
    "#### Question 23 Answer"
   ]
  },
  {
   "cell_type": "code",
   "execution_count": 82,
   "id": "a5ef7757-84da-47b9-824f-744289e2d6fb",
   "metadata": {},
   "outputs": [
    {
     "name": "stdout",
     "output_type": "stream",
     "text": [
      "f(0,0)\n",
      "\n",
      "f(0,1)\n",
      "*\n",
      "*\n",
      "\n",
      "f(0,2)\n",
      "**\n",
      " *\n",
      " *\n",
      "**\n",
      "\n",
      "f(0,4)\n",
      "****\n",
      " ***\n",
      "  **\n",
      "   *\n",
      "   *\n",
      "  **\n",
      " ***\n",
      "****\n"
     ]
    }
   ],
   "source": [
    "def tough(n, m):\n",
    "    if m == 0:\n",
    "        return\n",
    "    \n",
    "    print(' ' * n + '*' * m)\n",
    "    \n",
    "    tough(n + 1, m - 1)\n",
    "    \n",
    "    print(' ' * n + '*' * m)\n",
    "\n",
    "# Test\n",
    "print(\"f(0,0)\")\n",
    "tough(0, 0)\n",
    "print(\"\\nf(0,1)\")\n",
    "tough(0, 1)\n",
    "print(\"\\nf(0,2)\")\n",
    "tough(0, 2)\n",
    "print(\"\\nf(0,4)\")\n",
    "tough(0, 4)"
   ]
  },
  {
   "cell_type": "code",
   "execution_count": null,
   "id": "da588930-9d30-4bc4-a01d-473dcacccbf9",
   "metadata": {},
   "outputs": [],
   "source": []
  }
 ],
 "metadata": {
  "kernelspec": {
   "display_name": "Python 3 (ipykernel)",
   "language": "python",
   "name": "python3"
  },
  "language_info": {
   "codemirror_mode": {
    "name": "ipython",
    "version": 3
   },
   "file_extension": ".py",
   "mimetype": "text/x-python",
   "name": "python",
   "nbconvert_exporter": "python",
   "pygments_lexer": "ipython3",
   "version": "3.11.7"
  }
 },
 "nbformat": 4,
 "nbformat_minor": 5
}
