{
 "cells": [
  {
   "cell_type": "markdown",
   "id": "7c1b06c1-f6f8-4218-abd3-9e4c59194f3f",
   "metadata": {},
   "source": [
    "### Question 22 Answer"
   ]
  },
  {
   "cell_type": "code",
   "execution_count": 25,
   "id": "07232f3d-3edf-4a46-8cd5-aeca0ced3997",
   "metadata": {},
   "outputs": [
    {
     "name": "stdout",
     "output_type": "stream",
     "text": [
      "Output:\n",
      " id\n",
      "  2\n",
      "  4\n",
      "\n",
      "Explanation:\n",
      "In 2015-01-02, the temperature was higher than the previous day (25 -> 2).\n",
      "In 2015-01-04, the temperature was higher than the previous day (30 -> 4).\n"
     ]
    }
   ],
   "source": [
    "import sqlite3\n",
    "import pandas as pd\n",
    "\n",
    "# Sample data for Weather table\n",
    "weather_data = [\n",
    "    (1, '2015-01-01', 10),\n",
    "    (2, '2015-01-02', 25),\n",
    "    (3, '2015-01-03', 20),\n",
    "    (4, '2015-01-04', 30)\n",
    "]\n",
    "\n",
    "# Connect to SQLite database (in-memory)\n",
    "conn = sqlite3.connect(':memory:')\n",
    "c = conn.cursor()\n",
    "\n",
    "# Create Weather table and insert sample data\n",
    "c.execute('''CREATE TABLE Weather (\n",
    "                id INTEGER PRIMARY KEY,\n",
    "                recordDate DATE,\n",
    "                temperature INTEGER\n",
    "             )''')\n",
    "c.executemany('INSERT INTO Weather (id, recordDate, temperature) VALUES (?, ?, ?)', weather_data)\n",
    "\n",
    "# SQL query to find dates with higher temperatures compared to previous day\n",
    "query = '''\n",
    "    SELECT w.id, w.recordDate, w.temperature\n",
    "    FROM Weather w\n",
    "    WHERE EXISTS (\n",
    "        SELECT 1\n",
    "        FROM Weather w2\n",
    "        WHERE w2.recordDate = DATE(w.recordDate, \"-1 day\")\n",
    "          AND w.temperature > w2.temperature\n",
    "    )\n",
    "'''\n",
    "\n",
    "# Execute the query\n",
    "c.execute(query)\n",
    "\n",
    "# Fetch results\n",
    "results = c.fetchall()\n",
    "\n",
    "# Display output with explanations\n",
    "output_ids = [row[0] for row in results]\n",
    "output_df = pd.DataFrame(output_ids, columns=['id'])\n",
    "\n",
    "print(\"Output:\")\n",
    "print(output_df.to_string(index=False))\n",
    "\n",
    "print(\"\\nExplanation:\")\n",
    "for result in results:\n",
    "    print(f\"In {result[1]}, the temperature was higher than the previous day ({result[2]} -> {result[0]}).\")\n",
    "\n",
    "# Close connection\n",
    "conn.close()\n"
   ]
  },
  {
   "cell_type": "code",
   "execution_count": null,
   "id": "6e287b68-9dba-447a-9eac-ad2e52fbba11",
   "metadata": {},
   "outputs": [],
   "source": []
  }
 ],
 "metadata": {
  "kernelspec": {
   "display_name": "Python 3 (ipykernel)",
   "language": "python",
   "name": "python3"
  },
  "language_info": {
   "codemirror_mode": {
    "name": "ipython",
    "version": 3
   },
   "file_extension": ".py",
   "mimetype": "text/x-python",
   "name": "python",
   "nbconvert_exporter": "python",
   "pygments_lexer": "ipython3",
   "version": "3.11.7"
  }
 },
 "nbformat": 4,
 "nbformat_minor": 5
}
