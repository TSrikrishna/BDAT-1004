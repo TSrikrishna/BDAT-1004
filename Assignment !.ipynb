{
 "cells": [
  {
   "cell_type": "markdown",
   "id": "9f9a659e-a532-4fcf-acf9-96b177c83326",
   "metadata": {},
   "source": [
    "## Questions\n"
   ]
  },
  {
   "cell_type": "markdown",
   "id": "68124e5e-fea2-45a4-bf99-c117f82f5ee0",
   "metadata": {},
   "source": [
    "## Q.1  What data type is each of the following (evaluate where necessary)?\n",
    "\r\n",
    "\n",
    "\n",
    "- 5\n",
    "- 5.0\n",
    "- 5 > 1\n",
    "- '5'\n",
    "- 5 * 2\n",
    "- '5' * 2\n",
    "- '5' + '2'\n",
    "   5 / 2\n",
    "- 5 % 2\n",
    "- {5, 2, 1}\n",
    "- 5 == 3\n",
    "- Pi (the number)"
   ]
  },
  {
   "cell_type": "markdown",
   "id": "c9c38841-e17c-41e8-b6e0-47e1125c2d43",
   "metadata": {},
   "source": [
    "##### Answer of 1\n",
    "- 5: Integer\n",
    "- 5.0: Float\n",
    "- 5 > 1: Boolean\n",
    "- '5': String\n",
    "- 5 * 2: Integer\n",
    "- '5' * 2: String\n",
    "- '5' + '2': String\n",
    "- 5 / 2: Float\n",
    "- 5 % 2: Integer\n",
    "- {5, 2, 1}: Set\n",
    "- 5 == 3: Boolean\n",
    "- Pi (the number): Float\n"
   ]
  },
  {
   "cell_type": "code",
   "execution_count": 12,
   "id": "31ecd579-e924-4da4-9c2d-16ee7f4c4fe9",
   "metadata": {},
   "outputs": [
    {
     "name": "stdout",
     "output_type": "stream",
     "text": [
      "<class 'float'>\n"
     ]
    }
   ],
   "source": [
    "# We can also use the type function to know the data types. For instance \n",
    "print(type(5.0))"
   ]
  },
  {
   "cell_type": "markdown",
   "id": "168c59df-8bf8-4811-94a8-16354c6b9eca",
   "metadata": {},
   "source": [
    "# Q.2 \n",
    "Write (and evaluate) python expressions that answer these questions:\n",
    "\n",
    "a. How many letters are there in 'Supercalifragilisticexpialidocious'\n",
    "\r\n",
    "b. Does 'Supercalifragilisticexpialidocious' contain 'ice' as a substrin\n",
    "c. Which of the following words is the longest:\n",
    "Supercalifragilisticexpialidocious, Honorificabilitudinitatibus, o \r\n",
    "Bababadalgharaghtakamminarronnkon\n",
    "?\r\n",
    "d. Which composer comes first in the dictionary: 'Berlioz', 'Borodin', 'Bri ',\r\n",
    "'Bartok', 'Bellini', 'Buxtehude', 'Bernstein'. Which one comes last?g?"
   ]
  },
  {
   "cell_type": "code",
   "execution_count": 82,
   "id": "94ddd760-57ae-4eb4-a1ae-05f7dae26bf8",
   "metadata": {},
   "outputs": [
    {
     "name": "stdout",
     "output_type": "stream",
     "text": [
      "34\n"
     ]
    }
   ],
   "source": [
    "# Answer for the character length we can use len function\n",
    "word1 = \"Supercalifragilisticexpialidocious\"\n",
    "print(len(word1))"
   ]
  },
  {
   "cell_type": "code",
   "execution_count": 83,
   "id": "2073410a-e432-40bb-884b-1f13d5faa286",
   "metadata": {},
   "outputs": [
    {
     "data": {
      "text/plain": [
       "True"
      ]
     },
     "execution_count": 83,
     "metadata": {},
     "output_type": "execute_result"
    }
   ],
   "source": [
    "# Answer for check if \"ice\" is contained in the word1\n",
    "\n",
    "\"ice\" in word1"
   ]
  },
  {
   "cell_type": "code",
   "execution_count": 84,
   "id": "ef986819-c51a-4684-9987-3bae571eae35",
   "metadata": {},
   "outputs": [
    {
     "name": "stdout",
     "output_type": "stream",
     "text": [
      "34\n",
      "27\n",
      "34\n"
     ]
    }
   ],
   "source": [
    "# Answer for check the longest word among three words\n",
    "word1 = \"Supercalifragilisticexpialidocious\"\n",
    "word2 = \"Honorificabilitudinitatibus\"\n",
    "word3 = \"Bababadalgharaghtakamminarronnkonn\"\n",
    "\n",
    "print(len(word1))\n",
    "print(len(word2))\n",
    "print(len(word3))"
   ]
  },
  {
   "cell_type": "markdown",
   "id": "fb1be556-5fd8-4bbb-a68b-c4c0ff0a3182",
   "metadata": {},
   "source": [
    "**word1 and word3 are of equal number of characters**"
   ]
  },
  {
   "cell_type": "code",
   "execution_count": 85,
   "id": "123a5708-d9ec-45bf-a93c-c94801cceebe",
   "metadata": {},
   "outputs": [],
   "source": [
    "# Answer for DICTIONARY\n",
    "# Bartok comes first and Buxtehude comes last. AS dictionary, names sorted in alphabetical order"
   ]
  },
  {
   "cell_type": "markdown",
   "id": "a09042e6-2b1b-4450-9ff0-c6f210799159",
   "metadata": {},
   "source": [
    "### Q.3 \n",
    "Implement function triangleArea(a,b,c) that takes as input the lengths of the 3 \n",
    "sides of a triangle and returns the area of the triangle. By Heron's formula, the are \r\n",
    "of a triangle with side lengths a, b, and c  sqrt. (s\r\n",
    "s(s - a)(s -b)(s )-c), wh re\r\n",
    "(a+b+c)/ 2\n",
    "\n",
    "\n",
    "triangleArea(2,2,2)\n",
    "\r\n",
    "1.7320508075688772 /2."
   ]
  },
  {
   "cell_type": "code",
   "execution_count": 89,
   "id": "726acbc5-f26f-45e9-a531-672cd830908b",
   "metadata": {},
   "outputs": [
    {
     "name": "stdout",
     "output_type": "stream",
     "text": [
      "1.7320508075688772\n"
     ]
    }
   ],
   "source": [
    "# Taking method Sqrt for squareroot from Math libraries\n",
    "import math\n",
    "def triangleArea(a, b, c):\n",
    "    s= (a+b+c)/2\n",
    "    Area = math.sqrt(s*(s-a)*(s-b)*(s-c))\n",
    "    return Area\n",
    "\n",
    "print(triangleArea(2,2,2))"
   ]
  },
  {
   "cell_type": "markdown",
   "id": "2f368eec-a480-49bd-8a27-b6bb181d1a0d",
   "metadata": {},
   "source": [
    "### Q.4\r\n",
    "\r\n",
    "Write a program in Python to separate odd and even integers in separate arrays.\r\n",
    "\r\n",
    "**Test Data:**\r\n",
    "Input the number of elements to be stored in the array: 5\r\n",
    "Input 5 elements in the array:\r\n",
    "- Element 0: 25\r\n",
    "- Element 1: 47\r\n",
    "- Element 2: 42\r\n",
    "- Element 3: 56\r\n",
    "- Element 4: 32\r\n",
    "\r\n",
    "**Expected Output:**\r\n",
    "The Even elements are:\r\n",
    "42 56 32\r\n",
    "The Odd elements are:\r\n",
    "25 47\r\n",
    "7s are :\r\n",
    "25 47"
   ]
  },
  {
   "cell_type": "code",
   "execution_count": 13,
   "id": "5cc869fe-9251-4468-b1da-15eb829c699f",
   "metadata": {},
   "outputs": [],
   "source": [
    "# Answer for seperating even and odd numbers from the list of numbers\n",
    "# Numbers = some list of numbers\n",
    "def seperator(Numbers):\n",
    "    EvenNumber = []\n",
    "    OddNumber = []\n",
    "    for n in Numbers:\n",
    "        if  n % 2 != 0:\n",
    "            OddNumber.append(n)\n",
    "        else:\n",
    "            EvenNumber.append(n)\n",
    "    print(f\"The list of even numbers are: {EvenNumber}\")\n",
    "    print(f\"The list of odd numbers are: {OddNumber}\")\n",
    "            "
   ]
  },
  {
   "cell_type": "code",
   "execution_count": 14,
   "id": "8715196d-9854-46d4-aea8-329ed23f8b32",
   "metadata": {},
   "outputs": [
    {
     "name": "stdout",
     "output_type": "stream",
     "text": [
      "The list of even numbers are: [42, 56, 32]\n",
      "The list of odd numbers are: [25, 47]\n"
     ]
    }
   ],
   "source": [
    "# For example for the list of Numbers\n",
    "\n",
    "Numbers = (25, 47, 42, 56, 32)\n",
    "seperator(Numbers)"
   ]
  },
  {
   "cell_type": "markdown",
   "id": "846ed219-66e1-4e2c-80b4-8aa3890a899b",
   "metadata": {},
   "source": [
    "# Question 5\r\n",
    "\r\n",
    "## a. Write a function `inside(x, y, x1, y1, x2, y2)` that returns True or False depending on whether the point (x, y) lies in the rectangle with lower left corner (x1, y1) and upper right corner (x2, y2).\r\n",
    "\r\n",
    "> inside(1, 1, 0, 0, 2, 3)\r\n",
    "> True\r\n",
    "> inside(-1, -1, 0, 0, 2, 3)\r\n",
    "> False\r\n",
    "\r\n",
    "## b. Use function `inside()` from part a. to write an expression that tests whether the point (1, 1) lies in both of the following rectangles: one with lower left corner (0.3, 0.5) and upper right corner (1.1, 0.7) and the other with lower left corner (0.5, 0.2) and upper right corner (1.1, 2).\r\n"
   ]
  },
  {
   "cell_type": "code",
   "execution_count": 15,
   "id": "c95cce72-32b6-4f32-92f9-abd71efc6eae",
   "metadata": {},
   "outputs": [
    {
     "name": "stdout",
     "output_type": "stream",
     "text": [
      "True\n",
      "False\n"
     ]
    }
   ],
   "source": [
    "# a. Answer\n",
    "# Answer for whether the point (x,y) lies in the rect having lower left(x1, y1) and upper right corner(x2,y2)\n",
    "# For point to lie within the rect the condition must be satisfied: x1 <= x <= x2 and y1 <= y <= y2\n",
    "\n",
    "def inside(x,y,x1,y1,x2,y2):\n",
    "    print(x1 <= x <= x2 and y1 <= y <= y2)\n",
    "\n",
    "\n",
    "\n",
    "inside(1,1,0,0,2,3) \n",
    "inside(-1,-1,0,0,2,3) \n",
    "        "
   ]
  },
  {
   "cell_type": "code",
   "execution_count": 4,
   "id": "b2075628-ced3-4191-8f4f-3756e1df7df1",
   "metadata": {},
   "outputs": [
    {
     "name": "stdout",
     "output_type": "stream",
     "text": [
      "False\n",
      "True\n"
     ]
    }
   ],
   "source": [
    "# 5b answer\n",
    "# for first part to check whether the point (1,1) lies in the rectangle-1 having lower left corner (0.3, 0.5) \n",
    "# and upper right corner (1.1, 0.7) or not we use inside() function\n",
    "\n",
    "inside(1,1,0.3,0.5,1.1,0.7)\n",
    "\n",
    "\n",
    "# for the second part whether the point (1,1) lies in the rectangle-1 having lower left corner (0.5, 0.2) and upper right corner (1.1, 2) \n",
    "inside(1,1, 0.5,0.2,1.1,2)"
   ]
  },
  {
   "cell_type": "markdown",
   "id": "919199dc-f152-4a5d-8426-cbd2f401aa66",
   "metadata": {},
   "source": [
    "# Q.6"
   ]
  },
  {
   "cell_type": "markdown",
   "id": "6a17fc99-d5e1-423a-8bd6-5bb47a0d1cd0",
   "metadata": {},
   "source": [
    " You can turn a word into pig-Latin using the following two rules (simplified): \r\n",
    "• If the word starts with a consonant, move that letter to the end and append 'ay'. For example, 'happy' becomes 'appyhay' and 'pencil' becomes 'encilpay'. \r\n",
    "• If the word starts with a vowel, simply append 'way' to the end of the word. For example, 'enter' becomes 'enterway' and 'other' becomes 'otherway' . For our purposes, there are 5 vowels: a, e, i, o, u (so we count y as a consonant). \r\n",
    "\r\n",
    "Write a function pig() that takes a word (i.e., a string) as input and returns its pig-Latin form. Your function should still work if the input word contains upper case characters. Your output should always be lower case however. \r\n",
    "pig('happy') \r\n",
    "'appyhay' \r\n",
    "pig('Enter') \r\n",
    "'enterway'\r\n"
   ]
  },
  {
   "cell_type": "code",
   "execution_count": 6,
   "id": "c2f7cd23-2c3b-4fe6-a92c-7745648f0286",
   "metadata": {},
   "outputs": [
    {
     "name": "stdin",
     "output_type": "stream",
     "text": [
      "What is your word?  Srikrishna\n"
     ]
    },
    {
     "name": "stdout",
     "output_type": "stream",
     "text": [
      "New word in Pig Latin: rikrishnasay\n"
     ]
    }
   ],
   "source": [
    "def pig(word):\n",
    "    vowels = {'a', 'e', 'i', 'o', 'u'}\n",
    "    if word[0] in vowels:\n",
    "        return word + \"way\"\n",
    "    else:\n",
    "        return word[1:] + word[0] + \"ay\"\n",
    "\n",
    "word = input(\"What is your word? \").lower()\n",
    "print(\"New word in Pig Latin:\", pig(word))\n"
   ]
  },
  {
   "cell_type": "markdown",
   "id": "9cf283a0-7f93-4d34-a9f6-1737adb2f0f1",
   "metadata": {},
   "source": [
    "# Q.7 File bloodtype1.txt records blood-types of patients (A, B, AB, O or OO) at a clinic. \n",
    "###### Write a function bldcount() that reads the file with name name and reports (i.e., prints) how many patients there are in each bloodtype.\n",
    "###### bldcount('bloodtype.txt')\n",
    "- There are 10 patients of blood type A.\n",
    "- There is one patient of blood type B.\n",
    "- There are 10 patients of blood type AB.\n",
    "- There are 12 patients of blood type O.\n",
    "- There are no patients of blood type OO."
   ]
  },
  {
   "cell_type": "code",
   "execution_count": 73,
   "id": "e51712f3-722b-4d38-92cf-2ca3a0f87259",
   "metadata": {},
   "outputs": [
    {
     "name": "stdout",
     "output_type": "stream",
     "text": [
      "There are 15 patients of blood type A.\n",
      "There is one patient of blood type B.\n",
      "There are 13 patients of blood type AB.\n",
      "There are 15 patients of blood type O.\n",
      "There are no patients of blood type OO.\n"
     ]
    }
   ],
   "source": [
    "def bldcount(filename):\n",
    "    count = {'A': 0, 'B': 0, 'AB': 0, 'O': 0, 'OO': 0}          #creating empety dictionary for storing blood_type and its count\n",
    "\n",
    "    with open(filename, 'r') as file:                           # Open the file for reading\n",
    "        for line in file:                                       # seperating lines of txt file                                                                 \n",
    "            for blood_type in line.strip().split():             #stripping each blood type from each line\n",
    "                if blood_type in count:                         #looking the type in count dictionary and counting each word\n",
    "                        count[blood_type] += 1\n",
    "                else:\n",
    "                        break\n",
    "\n",
    "    for blood_type, num_patients in count.items():             \n",
    "        if num_patients == 1:\n",
    "                print(f\"There is one patient of blood type {blood_type}.\")\n",
    "        elif num_patients > 1:\n",
    "                print(f\"There are {num_patients} patients of blood type {blood_type}.\")\n",
    "        else:\n",
    "                print(f\"There are no patients of blood type {blood_type}.\")\n",
    "\n",
    "  \n",
    "bldcount(r'D:\\BigData\\BDAT 1004 Data Programming\\Assignments Data\\bloodtype1.txt')\n",
    "\n"
   ]
  },
  {
   "cell_type": "markdown",
   "id": "c6db7df9-d7c8-4c1c-8f67-b1c367feb1ee",
   "metadata": {},
   "source": [
    "## Q.8 Write a function curconv() that takes as input:\n",
    "1. a currency represented using a string (e.g., 'JPY' for the Japanese Yen or \n",
    "'EUR' for the Euro)\n",
    "2. an amount\n",
    "and then converts and returns the amount in US dollars.\n",
    "> - curconv('EUR', 100)\n",
    " - 122.96544\n",
    "> -  curconv('JPY', 100)\n",
    " - 1.241401\n",
    "\n",
    "   \n",
    "The currency rates you will need are stored in file **currencies.txt**:\n",
    "- AUD 1.0345157 Australian Dollar\r\n",
    "- CHF 1.0237414 Swiss Franc\r\n",
    "- CNY 0.1550176 Chinese Yuan\r\n",
    "- DKK 0.1651442 Danish Krone\r\n",
    "- EUR 1.2296544 Euro\r\n",
    "- GBP 1.5550989 British Pound\r\n",
    "- HKD 0.1270207 Hong Kong Dollar\r\n",
    "- INR 0.0177643 Indian Rupee\r\n",
    "- JPY 0.01241401 Japanese Yen\r\n",
    "- MXN 0.0751848 Mexican Peso\r\n",
    "- MYR 0.3145411 Malaysian Ringgit\r\n",
    "- NOK 0.1677063 Norwegian Krone\r\n",
    "- NZD 0.8003591 New Zealand Dollar\r\n",
    "- PHP 0.0233234 Philippine Peso\r\n",
    "- SEK 0.148269 Swedish Krona\r\n",
    "- SGD 0.788871 Singapore Dollar\r\n",
    "- THB 0.0313789 Thai Baht"
   ]
  },
  {
   "cell_type": "markdown",
   "id": "f87d3893-98e9-47a0-b37a-3873a6aac4cd",
   "metadata": {},
   "source": [
    "##### Q.8 answer\n",
    "\n",
    "\n"
   ]
  },
  {
   "cell_type": "code",
   "execution_count": 70,
   "id": "5b80c189-574e-4433-9dba-b60d1708b844",
   "metadata": {},
   "outputs": [
    {
     "name": "stdout",
     "output_type": "stream",
     "text": [
      "122.96544\n",
      "1.241401\n"
     ]
    }
   ],
   "source": [
    "def curconv(currency, amount):\n",
    "    with open(r\"D:\\BigData\\BDAT 1004 Data Programming\\Assignments Data\\currencies.txt\", \"r\") as file:\n",
    "        lines = file.readlines()\n",
    "    currency_rates = {}                                                   # Create a dictionary to store currency conversion rates\n",
    "    for line in lines:\n",
    "        code, rate = line.split()[0], float(line.split()[1])              # Split each line into currency code and conversion rate, convert value > float\n",
    "        currency_rates[code] = rate                                       # Renaming dict key - code to Rate\n",
    "\n",
    "    if currency in currency_rates:                                        \n",
    "        return amount * currency_rates[currency]\n",
    "    else:\n",
    "        return None\n",
    "        \n",
    "\n",
    "\n",
    "print(curconv('EUR', 100))\n",
    "print(curconv('JPY', 100))\n"
   ]
  },
  {
   "cell_type": "markdown",
   "id": "e4c2e638-13e2-45d5-b2cb-fbc276c1847f",
   "metadata": {},
   "source": [
    "#### Q.9 Answer\n",
    "\n",
    "Trying to add incompatible variables, as in adding 6 + 'a':\n",
    "TypeError: Different types\n",
    "\n",
    "\n",
    "Referring to the 12th item of a list that has only 10 items:\n",
    "IndexError: List index out of range\n",
    "\n",
    "Using a value that is out of range for a function's input, such as calling math.sqrt(-1.0):\n",
    "ValueError: math domain error\n",
    "\n",
    "\n",
    "Using an undeclared variable, such as print(x) when x has not been defined:\n",
    "NameError: Name 'x' is not defined\n",
    "\n",
    "\n",
    "Trying to open a file that does not exist, such as mistyping the file name or looking in the wrong directory:\n",
    "FileNotFoundError: No such file or directory\n"
   ]
  },
  {
   "cell_type": "markdown",
   "id": "4e298a2b-3f8b-40ee-ac5e-ffa023db2319",
   "metadata": {},
   "source": [
    "## Q. 10 \n",
    "##### Encryption is the process of hiding the meaning of a text by substituting letters in the message with other letters, according to some system. If the process is successful, no one but the intended recipient can understand the encrypted message. Cryptanalysis refers to attempts to undo the encryption, even if some details of the encryption are unknown (for example, if an encrypted message has been intercepted). The first step of cryptanalysis is often to build up a table of letter frequencies in the encrypted text. Assume that the string letters is already defined as 'abcdefghijklmnopqrstuvwxyz'. Write a function called frequencies() that takes a string as its only parameter, and returns a list of integers, showing the number of times each character appears in the text. Your function may ignore any characters that are not in letters.\n",
    "\n",
    "Example:\n",
    "\n",
    "```python\n",
    ">>> frequencies('The quick red fox got bored and went home.')\n",
    "[1, 1, 1, 3, 5, 1, 1, 2, 1, 0, 1, 0, 1, 2, 4, 0, 1, 2, 0, 2, 1, 0, 1, 1, 0, 0]\n",
    ">>> frequencies('apple')\n"
   ]
  },
  {
   "cell_type": "code",
   "execution_count": 129,
   "id": "81b33f1c-d03c-451c-95ad-acc2c29f53db",
   "metadata": {
    "scrolled": true
   },
   "outputs": [
    {
     "name": "stdout",
     "output_type": "stream",
     "text": [
      "[1, 1, 1, 3, 5, 1, 1, 2, 1, 0, 1, 0, 1, 2, 4, 0, 1, 2, 0, 3, 1, 0, 1, 1, 0, 0]\n",
      "[1, 0, 0, 0, 1, 0, 0, 0, 0, 0, 0, 1, 0, 0, 0, 2, 0, 0, 0, 0, 0, 0, 0, 0, 0, 0]\n"
     ]
    }
   ],
   "source": [
    "def frequencies(text):\n",
    "    try:\n",
    "        letter_counts = []\n",
    "        text = text.lower()\n",
    "    \n",
    "        for letter in 'abcdefghijklmnopqrstuvwxyz':\n",
    "            letter_counts.append(text.count(letter))\n",
    "        \n",
    "        return letter_counts\n",
    "\n",
    "    except Exception:\n",
    "        return None\n",
    "\n",
    "print(frequencies('The quick red fox got bored and went home.'))\n",
    "print(frequencies('apple'))\n",
    "letter = \"MY name is Khan.\""
   ]
  }
 ],
 "metadata": {
  "kernelspec": {
   "display_name": "Python 3 (ipykernel)",
   "language": "python",
   "name": "python3"
  },
  "language_info": {
   "codemirror_mode": {
    "name": "ipython",
    "version": 3
   },
   "file_extension": ".py",
   "mimetype": "text/x-python",
   "name": "python",
   "nbconvert_exporter": "python",
   "pygments_lexer": "ipython3",
   "version": "3.11.7"
  }
 },
 "nbformat": 4,
 "nbformat_minor": 5
}
