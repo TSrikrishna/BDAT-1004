{
 "cells": [
  {
   "cell_type": "markdown",
   "id": "4286d99b-8281-473a-8c49-f77543c707fc",
   "metadata": {},
   "source": [
    "#### Question 23 Answer"
   ]
  },
  {
   "cell_type": "code",
   "execution_count": 78,
   "id": "a5ef7757-84da-47b9-824f-744289e2d6fb",
   "metadata": {},
   "outputs": [
    {
     "ename": "SyntaxError",
     "evalue": "unmatched ')' (851369514.py, line 9)",
     "output_type": "error",
     "traceback": [
      "\u001b[1;36m  Cell \u001b[1;32mIn[78], line 9\u001b[1;36m\u001b[0m\n\u001b[1;33m    print(' ' * (n +1)) '*' * (m - 1))\u001b[0m\n\u001b[1;37m                                     ^\u001b[0m\n\u001b[1;31mSyntaxError\u001b[0m\u001b[1;31m:\u001b[0m unmatched ')'\n"
     ]
    }
   ],
   "source": [
    "def tough(n, m):\n",
    "    if m == 0:\n",
    "        return\n",
    "    \n",
    "    print(' ' * n + '*' * m)\n",
    "    \n",
    "    tough(n + 1, m - 1)\n",
    "    \n",
    "    print(' ' * (n +1)), '*' * (m - 1))\n",
    "\n",
    "# Test the function with the provided examples\n",
    "print(\"f(0,0)\")\n",
    "tough(0, 0)\n",
    "print(\"\\nf(0,1)\")\n",
    "tough(0, 1)\n",
    "print(\"\\nf(0,2)\")\n",
    "tough(0, 2)\n",
    "print(\"\\nf(0,4)\")\n",
    "tough(0, 4)"
   ]
  },
  {
   "cell_type": "code",
   "execution_count": null,
   "id": "da588930-9d30-4bc4-a01d-473dcacccbf9",
   "metadata": {},
   "outputs": [],
   "source": []
  }
 ],
 "metadata": {
  "kernelspec": {
   "display_name": "Python 3 (ipykernel)",
   "language": "python",
   "name": "python3"
  },
  "language_info": {
   "codemirror_mode": {
    "name": "ipython",
    "version": 3
   },
   "file_extension": ".py",
   "mimetype": "text/x-python",
   "name": "python",
   "nbconvert_exporter": "python",
   "pygments_lexer": "ipython3",
   "version": "3.11.7"
  }
 },
 "nbformat": 4,
 "nbformat_minor": 5
}
