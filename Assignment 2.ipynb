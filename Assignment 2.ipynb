{
 "cells": [
  {
   "cell_type": "markdown",
   "id": "6b9c85e1-c32f-4935-a16c-1b152bf74c44",
   "metadata": {},
   "source": [
    "# Problem Set 2"
   ]
  },
  {
   "cell_type": "markdown",
   "id": "5d54ba71-0896-4897-93a2-d5fabaf3b50a",
   "metadata": {},
   "source": [
    "#### Question. 1"
   ]
  },
  {
   "cell_type": "raw",
   "id": "b86c183d-3137-4404-b9f2-31000b53c96a",
   "metadata": {},
   "source": [
    "\r\n",
    " Consider the following Python module: \r\n",
    "a = 0 \r\n",
    "def b()    : \r\n",
    "global     a \r\n",
    "a = c(a) \r\n",
    "def c    (a): \r\n",
    "return\n",
    " a + 2 \r\n",
    "After importing the module into the interpreter, you execute: \r\n",
    ">>> b() \r\n",
    ">>> b() \r\n",
    ">>> b() \r\n",
    ">>> a ? \r\n",
    "What value is displayed when the last expression (a) is evaluated? Explain your answer by indicating what happens in every executed statement.\r\n"
   ]
  },
  {
   "cell_type": "markdown",
   "id": "b3910517-a739-43e7-be28-3bbf8ac972ce",
   "metadata": {},
   "source": [
    "#### Answer"
   ]
  },
  {
   "cell_type": "markdown",
   "id": "c9fc4b8e-d536-4125-93f5-98110cc108c9",
   "metadata": {},
   "source": [
    "**First a is initialized to 0**\n",
    "\n",
    "**first call function b()**\n",
    "    inside b() the global variable is updated by using function c(a), which returns increment of value a by 2\n",
    "                                            \n",
    "                                    result, a = 2\n",
    "\n",
    "**second call function b()**\n",
    "    Inside b() again the value of a updates using the function c(a), resulting increment of 2 \n",
    "    \n",
    "    \n",
    "                                    result, a = 4\n",
    "\n",
    "**Third call function b()**\n",
    "    Value again updates, a = 6 to the existing global variable.\n",
    "\n",
    "\n",
    "**Final Expression:**\n",
    "When evaluated the value of a, it results the value 6 after the third call.\n",
    "\n",
    "\n"
   ]
  },
  {
   "cell_type": "markdown",
   "id": "76d7ab55-5786-457a-87e9-a46bf5496636",
   "metadata": {},
   "source": [
    "#### Question 2 Answer"
   ]
  },
  {
   "cell_type": "code",
   "execution_count": 6,
   "id": "a4c7ccae-41e3-4ef6-b658-8c072556611f",
   "metadata": {},
   "outputs": [
    {
     "name": "stdout",
     "output_type": "stream",
     "text": [
      "File midterm.py not found.\n",
      "File idterm.py not found.\n"
     ]
    }
   ],
   "source": [
    "def fileLength(filename):\n",
    "    try:\n",
    "        with open(filename) as infile:\n",
    "            content = infile.read()\n",
    "            length = len(content)\n",
    "            return length\n",
    "    except FileNotFoundError:\n",
    "        return f\"File {filename} not found.\"\n",
    "\n",
    "# Example usage:\n",
    "print(fileLength('midterm.py'))  \n",
    "print(fileLength('idterm.py'))  "
   ]
  },
  {
   "cell_type": "markdown",
   "id": "9aff645f-4b12-44dd-879d-8bb976a7b7c1",
   "metadata": {},
   "source": [
    "#### Question 3 Answer"
   ]
  },
  {
   "cell_type": "code",
   "execution_count": 13,
   "id": "9c2e9a96-4246-4f11-83c7-78bbcfb4110f",
   "metadata": {},
   "outputs": [
    {
     "name": "stdout",
     "output_type": "stream",
     "text": [
      "['doll', 'firetruck', 'kitten']\n",
      "I am a Kangaroo located at coordinates (0,0)\n"
     ]
    }
   ],
   "source": [
    "class Marsupial:\n",
    "    def __init__(self):\n",
    "        self.pouch = []\n",
    "\n",
    "    def put_in_pouch(self, item):\n",
    "        self.pouch.append(item)\n",
    "\n",
    "    def pouch_contents(self):\n",
    "        return self.pouch\n",
    "\n",
    "class Kangaroo(Marsupial):\n",
    "    def __init__(self, x, y):\n",
    "        super().__init__()\n",
    "        self.x = x\n",
    "        self.y = y\n",
    "\n",
    "    def jump(self, dx, dy):\n",
    "        self.x += dx\n",
    "        self.y += dy\n",
    "\n",
    "    def __str__(self):\n",
    "        return f\"I am a Kangaroo located at coordinates ({self.x},{self.y})\"\n",
    "\n",
    "# usage:\n",
    "m = Marsupial()\n",
    "m.put_in_pouch('doll')\n",
    "m.put_in_pouch('firetruck')\n",
    "m.put_in_pouch('kitten')\n",
    "print(m.pouch_contents())  \n",
    "\n",
    "k = Kangaroo(0, 0)\n",
    "print(k)  \n"
   ]
  },
  {
   "cell_type": "code",
   "execution_count": 15,
   "id": "71985a8c-7460-4bb4-80bc-f183eb0035cb",
   "metadata": {},
   "outputs": [
    {
     "name": "stdout",
     "output_type": "stream",
     "text": [
      "['doll', 'doll', 'firetruck', 'kitten']\n"
     ]
    }
   ],
   "source": [
    "k.put_in_pouch('doll')\n",
    "k.put_in_pouch('firetruck')\n",
    "k.put_in_pouch('kitten')\n",
    "print(k.pouch_contents()) \n"
   ]
  },
  {
   "cell_type": "code",
   "execution_count": 16,
   "id": "b187f78f-220a-4f52-9bb7-31c824bf99e1",
   "metadata": {},
   "outputs": [
    {
     "name": "stdout",
     "output_type": "stream",
     "text": [
      "I am a Kangaroo located at coordinates (3,0)\n"
     ]
    }
   ],
   "source": [
    "k.jump(1, 0)\n",
    "k.jump(1, 0)\n",
    "k.jump(1, 0)\n",
    "print(k)  "
   ]
  },
  {
   "cell_type": "markdown",
   "id": "c755c297-3945-4c42-8c7b-2175c19b19fc",
   "metadata": {},
   "source": [
    "#### Question 4 Answer"
   ]
  },
  {
   "cell_type": "code",
   "execution_count": 48,
   "id": "45dbc6b2-5386-437e-89fe-b00e3bc3e21e",
   "metadata": {},
   "outputs": [],
   "source": [
    "def collatz(x):\n",
    "    while x != 1:\n",
    "        print(x)\n",
    "        if x % 2 == 0:\n",
    "            x = x // 2\n",
    "        else:\n",
    "            x = 3 * x + 1\n",
    "    print(1)"
   ]
  },
  {
   "cell_type": "code",
   "execution_count": 12,
   "id": "bc509e21-2041-4c5f-9f64-384caf958f56",
   "metadata": {},
   "outputs": [
    {
     "name": "stdout",
     "output_type": "stream",
     "text": [
      "1\n"
     ]
    }
   ],
   "source": [
    "collatz(1)"
   ]
  },
  {
   "cell_type": "code",
   "execution_count": 10,
   "id": "572a8f70-a32d-43e3-8125-cba5f8bb5a65",
   "metadata": {},
   "outputs": [
    {
     "name": "stdout",
     "output_type": "stream",
     "text": [
      "10\n",
      "5\n",
      "16\n",
      "8\n",
      "4\n",
      "2\n",
      "1\n"
     ]
    }
   ],
   "source": [
    "collatz(10)  "
   ]
  },
  {
   "cell_type": "markdown",
   "id": "25eb2956-9d06-4285-9089-baaab1f91cac",
   "metadata": {},
   "source": [
    "#### Question 5 Answer"
   ]
  },
  {
   "cell_type": "code",
   "execution_count": 27,
   "id": "61845d7c-4e0b-41f2-9117-6a32dd142421",
   "metadata": {},
   "outputs": [
    {
     "name": "stdout",
     "output_type": "stream",
     "text": [
      "0"
     ]
    }
   ],
   "source": [
    "def binary(n):\n",
    "    if n == 0:\n",
    "        print(0, end=\"\")\n",
    "        return\n",
    "\n",
    "    binary_str = \"\"\n",
    "    while n > 0:\n",
    "        binary_str = str(n % 2) + binary_str\n",
    "        n //= 2\n",
    "    print(binary_str, end=\"\") \n",
    "\n",
    "\n",
    "binary(0)  "
   ]
  },
  {
   "cell_type": "code",
   "execution_count": 28,
   "id": "acab4e44-24f9-4207-a4f8-4b9a236d9d60",
   "metadata": {},
   "outputs": [
    {
     "name": "stdout",
     "output_type": "stream",
     "text": [
      "1"
     ]
    }
   ],
   "source": [
    "binary(1)  \n"
   ]
  },
  {
   "cell_type": "code",
   "execution_count": 29,
   "id": "d699c807-5949-4fab-b828-92581127c3d5",
   "metadata": {},
   "outputs": [
    {
     "name": "stdout",
     "output_type": "stream",
     "text": [
      "11"
     ]
    }
   ],
   "source": [
    "binary(3)  \n"
   ]
  },
  {
   "cell_type": "code",
   "execution_count": 30,
   "id": "c74e0bf0-bf5f-438f-9cd1-1bece1e0320b",
   "metadata": {},
   "outputs": [
    {
     "name": "stdout",
     "output_type": "stream",
     "text": [
      "1001"
     ]
    }
   ],
   "source": [
    "binary(9)  "
   ]
  },
  {
   "cell_type": "markdown",
   "id": "c2f32ebb-3150-4b70-9acc-a0914eec9813",
   "metadata": {},
   "source": [
    "#### Question 6 Answer\n"
   ]
  },
  {
   "cell_type": "code",
   "execution_count": 45,
   "id": "7fd6f405-9968-44e8-a904-f076f8b21ade",
   "metadata": {},
   "outputs": [
    {
     "name": "stdout",
     "output_type": "stream",
     "text": [
      "W3C Mission\n",
      "\n",
      " Principles\n",
      " \n",
      " \n"
     ]
    }
   ],
   "source": [
    "from html.parser import HTMLParser\n",
    "\n",
    "class HeadingParser(HTMLParser):\n",
    "    def __init__(self):\n",
    "        super().__init__()\n",
    "        self.indentation = -1  # Initialize indentation\n",
    "        self.headings = []\n",
    "\n",
    "    def handle_starttag(self, tag, attrs):\n",
    "        if tag in ['h1', 'h2', 'h3', 'h4', 'h5', 'h6']:\n",
    "            self.indentation = int(tag[1]) - 1  # Set indentation based on heading level\n",
    "\n",
    "    def handle_data(self, data):\n",
    "        if self.indentation >= 0:\n",
    "            self.headings.append((' ' * self.indentation) + data.strip())\n",
    "\n",
    "    def get_headings(self):\n",
    "        return self.headings\n",
    "\n",
    "\n",
    "file_path = r\"D:\\BigData\\BDAT 1004 Data Programming\\Assignments Data\\Assignment2\\w3c.txt\"\n",
    "\n",
    "try:\n",
    "    with open(file_path, 'r', encoding='utf-8') as infile:\n",
    "        content = infile.read()\n",
    "    \n",
    "    hp = HeadingParser()\n",
    "    hp.feed(content)\n",
    "    headings = hp.get_headings()\n",
    "    for heading in headings:\n",
    "        print(heading)\n",
    "except FileNotFoundError:\n",
    "    print(f\"File {file_path} not found.\")\n",
    "except Exception as e:\n",
    "    print(f\"An error occurred: {e}\")\n"
   ]
  },
  {
   "cell_type": "markdown",
   "id": "a490dc17-29bb-4056-8b15-fbfe487dcabe",
   "metadata": {},
   "source": [
    "#### Question 7 Answer"
   ]
  },
  {
   "cell_type": "code",
   "execution_count": 49,
   "id": "53a8b01c-7b53-4c80-9efc-3e31802a6798",
   "metadata": {},
   "outputs": [
    {
     "name": "stdout",
     "output_type": "stream",
     "text": [
      "http://reed.cs.depaul.edu/lperkovic/csc242/test1.html\n"
     ]
    }
   ],
   "source": [
    "import requests\n",
    "from bs4 import BeautifulSoup\n",
    "\n",
    "def webdir(url, depth, indent):\n",
    "    if depth < 0:\n",
    "        return\n",
    "\n",
    "    try:\n",
    "        response = requests.get(url)\n",
    "        soup = BeautifulSoup(response.content, 'html.parser')\n",
    "\n",
    "        print(' ' * indent + url)\n",
    "\n",
    "        if depth > 0:\n",
    "            links = soup.find_all('a', href=True)\n",
    "            for link in links:\n",
    "                next_url = link['href']\n",
    "                if next_url.startswith('http'):\n",
    "                    webdir(next_url, depth - 1, indent + 2)\n",
    "\n",
    "    except requests.RequestException:\n",
    "        print(' ' * indent + f\"Error accessing {url}\")\n",
    "\n",
    "\n",
    "webdir('http://reed.cs.depaul.edu/lperkovic/csc242/test1.html', 2, 0)\n"
   ]
  },
  {
   "cell_type": "markdown",
   "id": "414dea02-6a81-428f-9883-69b8d55b1eca",
   "metadata": {},
   "source": [
    "#### Question 8 Answer"
   ]
  },
  {
   "cell_type": "markdown",
   "id": "0820d377-2f03-4aff-b0d4-1956cb7f4d7b",
   "metadata": {},
   "source": [
    "a) All the temperature data: sql     **SELECT DISTINCT City FROM table_name;**     \n",
    "\n",
    "b) All the cities, but without repetition: sql     **SELECT DISTINCT City FROM table_name;**     \n",
    "\n",
    "c) All the records for India: sql     **SELECT * FROM table_name WHERE Country = 'India';**     \n",
    "\n",
    "d) All the Fall records: sql     **SELECT * FROM table_name WHERE Season = 'Fall';**     \n",
    "\n",
    "e) The city, country, and season for which the average rainfall is between 200 and 400 millimeters: sql     **SELECT City, Country, Season     FROM table_name     WHERE Rainfall BETWEEN 200 AND 400;**     \n",
    "\n",
    "f) The city and country for which the average Fall temperature is above 20 degrees, in increasing temperature order: sql     **SELECT City, Country     FROM table_name     WHERE Season = 'Fall' AND Temperature > 20     ORDER BY Temperature;**     \n",
    "\n",
    "g) The total annual rainfall for Cairo: sql     **SELECT SUM(Rainfall) AS TotalRainfall     FROM table_name     WHERE City = 'Cairo';**     \n",
    "\n",
    "h) The total rainfall for each season: sql     **SELECT Season, SUM(Rainfall) AS TotalRainfall     FROM table_name     GROUP BY Season;** UP BY Season; \r\n",
    " all for each season.\r\n"
   ]
  },
  {
   "cell_type": "markdown",
   "id": "58374511-0d24-41a9-8adc-c660fa2b1150",
   "metadata": {},
   "source": [
    "#### Question 9 "
   ]
  },
  {
   "cell_type": "raw",
   "id": "11ab689f-d252-4738-94ce-96a44df4f9c1",
   "metadata": {},
   "source": [
    "Suppose list words is defined as follows:\n",
    "words = ['The', 'quick', 'brown', 'fox', 'jumps', 'over', 'the', 'lazy', 'dog']\n",
    "Write list comprehension expressions that use list words and generate the following lists:\n",
    "a) ['THE', 'QUICK', 'BROWN', 'FOX', 'JUMPS', 'OVER', 'THE', 'LAZY', 'DOG']\n",
    "b) ['the', 'quick', 'brown', 'fox', 'jumps', 'over', 'the', 'lazy', 'dog']\n",
    "c) [3, 5, 5, 3, 5, 4, 3, 4, 3] (the list of lengths of words in list words).\n",
    "d) [['THE', 'the', 3], ['QUICK', 'quick', 5], ['BROWN', 'brown', 5], ['FOX', 'fox', 3], ['JUMPS', 'jumps', 5], ['OVER', 'over', 4], ['THE', 'the', 3], ['LAZY', 'lazy', 4], ['DOG', 'dog', 3]] (the list containing a list for every word of list words, where each list contains the word in uppercase and lowercase and the length of the word.)\n",
    "e) ['The', 'quick', 'brown', 'fox', 'jumps', 'over', 'the', 'lazy', 'dog'] (the list of words in list words containing 4 or more characters.)"
   ]
  },
  {
   "cell_type": "markdown",
   "id": "5d5e97dc-98dd-4a38-abb2-09974227b6e7",
   "metadata": {},
   "source": [
    "###### Answers"
   ]
  },
  {
   "cell_type": "code",
   "execution_count": 46,
   "id": "e580b3f0-3ef3-479f-959a-c14636eb7cee",
   "metadata": {},
   "outputs": [
    {
     "name": "stdout",
     "output_type": "stream",
     "text": [
      "['THE', 'QUICK', 'BROWN', 'FOX', 'JUMPS', 'OVER', 'THE', 'LAZY', 'DOG']\n"
     ]
    }
   ],
   "source": [
    "#uppercase words\n",
    "words = ['The', 'quick', 'brown', 'fox', 'jumps', 'over', 'the', 'lazy', 'dog']\n",
    "\n",
    "uppercase_words = [word.upper() for word in words]\n",
    "print(uppercase_words)"
   ]
  },
  {
   "cell_type": "code",
   "execution_count": 53,
   "id": "0cca3c4e-b61c-4054-99f1-dc74df42c541",
   "metadata": {},
   "outputs": [
    {
     "name": "stdout",
     "output_type": "stream",
     "text": [
      "['the', 'quick', 'brown', 'fox', 'jumps', 'over', 'the', 'lazy', 'dog']\n"
     ]
    }
   ],
   "source": [
    "# Answer for B\n",
    "words = ['The', 'quick', 'brown', 'fox', 'jumps', 'over', 'the', 'lazy', 'dog']\n",
    "\n",
    "lowercase_words = [word.lower() for word in words]\n",
    "print( lowercase_words)\n"
   ]
  },
  {
   "cell_type": "code",
   "execution_count": 54,
   "id": "0b81f802-452d-4ce5-9c89-14b56b23d506",
   "metadata": {},
   "outputs": [
    {
     "name": "stdout",
     "output_type": "stream",
     "text": [
      "[3, 5, 5, 3, 5, 4, 3, 4, 3]\n"
     ]
    }
   ],
   "source": [
    "# c) Length of each word\n",
    "word_lengths = [len(word) for word in words]\n",
    "print( word_lengths)\n"
   ]
  },
  {
   "cell_type": "code",
   "execution_count": 56,
   "id": "93bc257a-7df7-4de2-8942-7679d83f3df0",
   "metadata": {},
   "outputs": [
    {
     "name": "stdout",
     "output_type": "stream",
     "text": [
      "[['THE', 'the', 3], ['QUICK', 'quick', 5], ['BROWN', 'brown', 5], ['FOX', 'fox', 3], ['JUMPS', 'jumps', 5], ['OVER', 'over', 4], ['THE', 'the', 3], ['LAZY', 'lazy', 4], ['DOG', 'dog', 3]]\n"
     ]
    }
   ],
   "source": [
    "# d) List containing word, lowercase word, and length for each word\n",
    "word_info = [[word.upper(), word.lower(), len(word)] for word in words]\n",
    "print( word_info)\n"
   ]
  },
  {
   "cell_type": "code",
   "execution_count": 57,
   "id": "651aad64-66ba-498c-870e-1ca5e80e62b9",
   "metadata": {},
   "outputs": [
    {
     "name": "stdout",
     "output_type": "stream",
     "text": [
      "['quick', 'brown', 'jumps', 'over', 'lazy']\n"
     ]
    }
   ],
   "source": [
    "# e) Words containing 4 or more characters\n",
    "long_words = [word for word in words if len(word) >= 4]\n",
    "\n",
    "print( long_words)"
   ]
  },
  {
   "cell_type": "code",
   "execution_count": null,
   "id": "cc54e41a-4e2f-40de-b608-97196f55f66a",
   "metadata": {},
   "outputs": [],
   "source": []
  }
 ],
 "metadata": {
  "kernelspec": {
   "display_name": "Python 3 (ipykernel)",
   "language": "python",
   "name": "python3"
  },
  "language_info": {
   "codemirror_mode": {
    "name": "ipython",
    "version": 3
   },
   "file_extension": ".py",
   "mimetype": "text/x-python",
   "name": "python",
   "nbconvert_exporter": "python",
   "pygments_lexer": "ipython3",
   "version": "3.11.7"
  }
 },
 "nbformat": 4,
 "nbformat_minor": 5
}
